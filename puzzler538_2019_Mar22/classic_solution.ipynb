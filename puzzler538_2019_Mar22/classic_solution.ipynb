{
 "cells": [
  {
   "cell_type": "code",
   "execution_count": 1,
   "metadata": {},
   "outputs": [],
   "source": [
    "from pybaseball import statcast\n",
    "from matplotlib.patches import Rectangle\n",
    "import matplotlib.pyplot as plt\n",
    "%matplotlib inline\n",
    "import pandas as pd\n",
    "import numpy as np"
   ]
  },
  {
   "cell_type": "markdown",
   "metadata": {},
   "source": [
    "### Use statcast to get info on the rates of events\n",
    "Grab 1 week of data per month for decent representative sample"
   ]
  },
  {
   "cell_type": "code",
   "execution_count": 2,
   "metadata": {},
   "outputs": [
    {
     "name": "stdout",
     "output_type": "stream",
     "text": [
      "This is a large query, it may take a moment to complete\n",
      "Completed sub-query from 2018-05-15 to 2018-05-20\n",
      "Completed sub-query from 2018-05-21 to 2018-05-22\n",
      "This is a large query, it may take a moment to complete\n",
      "Completed sub-query from 2018-06-15 to 2018-06-20\n",
      "Completed sub-query from 2018-06-21 to 2018-06-22\n",
      "This is a large query, it may take a moment to complete\n",
      "Completed sub-query from 2018-07-01 to 2018-07-06\n",
      "Completed sub-query from 2018-07-07 to 2018-07-07\n",
      "This is a large query, it may take a moment to complete\n",
      "Completed sub-query from 2018-08-15 to 2018-08-20\n",
      "Completed sub-query from 2018-08-21 to 2018-08-22\n"
     ]
    },
    {
     "name": "stderr",
     "output_type": "stream",
     "text": [
      "/Users/tburch/Documents/github/puzzles/venv_puzzles/lib/python3.7/site-packages/pybaseball/statcast.py:133: FutureWarning: Sorting because non-concatenation axis is not aligned. A future version\n",
      "of pandas will change to not sort by default.\n",
      "\n",
      "To accept the future behavior, pass 'sort=False'.\n",
      "\n",
      "To retain the current behavior and silence the warning, pass 'sort=True'.\n",
      "\n",
      "  final_data = pd.concat(dataframe_list, axis=0)\n"
     ]
    }
   ],
   "source": [
    "# Using 2016 data since that's the most recent in associated lahman database\n",
    "may_df = statcast(start_dt='2018-05-15', end_dt='2018-05-22')\n",
    "june_df = statcast(start_dt='2018-06-15', end_dt='2018-06-22')\n",
    "july_df = statcast(start_dt='2018-07-01', end_dt='2018-07-07') # avoids All star break\n",
    "august_df = statcast(start_dt='2018-08-15', end_dt='2018-08-22') \n"
   ]
  },
  {
   "cell_type": "code",
   "execution_count": 3,
   "metadata": {},
   "outputs": [
    {
     "name": "stderr",
     "output_type": "stream",
     "text": [
      "/Users/tburch/Documents/github/puzzles/venv_puzzles/lib/python3.7/site-packages/ipykernel_launcher.py:1: FutureWarning: Sorting because non-concatenation axis is not aligned. A future version\n",
      "of pandas will change to not sort by default.\n",
      "\n",
      "To accept the future behavior, pass 'sort=False'.\n",
      "\n",
      "To retain the current behavior and silence the warning, pass 'sort=True'.\n",
      "\n",
      "  \"\"\"Entry point for launching an IPython kernel.\n"
     ]
    }
   ],
   "source": [
    "stats = pd.concat([may_df, june_df, july_df, august_df])"
   ]
  },
  {
   "cell_type": "code",
   "execution_count": 4,
   "metadata": {},
   "outputs": [
    {
     "data": {
      "text/html": [
       "<div>\n",
       "<style scoped>\n",
       "    .dataframe tbody tr th:only-of-type {\n",
       "        vertical-align: middle;\n",
       "    }\n",
       "\n",
       "    .dataframe tbody tr th {\n",
       "        vertical-align: top;\n",
       "    }\n",
       "\n",
       "    .dataframe thead th {\n",
       "        text-align: right;\n",
       "    }\n",
       "</style>\n",
       "<table border=\"1\" class=\"dataframe\">\n",
       "  <thead>\n",
       "    <tr style=\"text-align: right;\">\n",
       "      <th></th>\n",
       "      <th>at_bat_number</th>\n",
       "      <th>away_score</th>\n",
       "      <th>away_team</th>\n",
       "      <th>ax</th>\n",
       "      <th>ay</th>\n",
       "      <th>az</th>\n",
       "      <th>babip_value</th>\n",
       "      <th>balls</th>\n",
       "      <th>bat_score</th>\n",
       "      <th>batter</th>\n",
       "      <th>...</th>\n",
       "      <th>tfs_deprecated</th>\n",
       "      <th>tfs_zulu_deprecated</th>\n",
       "      <th>type</th>\n",
       "      <th>umpire</th>\n",
       "      <th>vx0</th>\n",
       "      <th>vy0</th>\n",
       "      <th>vz0</th>\n",
       "      <th>woba_denom</th>\n",
       "      <th>woba_value</th>\n",
       "      <th>zone</th>\n",
       "    </tr>\n",
       "  </thead>\n",
       "  <tbody>\n",
       "    <tr>\n",
       "      <th>0</th>\n",
       "      <td>78.0</td>\n",
       "      <td>3.0</td>\n",
       "      <td>SEA</td>\n",
       "      <td>-0.6934</td>\n",
       "      <td>25.2146</td>\n",
       "      <td>-25.2738</td>\n",
       "      <td>0.0</td>\n",
       "      <td>1.0</td>\n",
       "      <td>2.0</td>\n",
       "      <td>543760.0</td>\n",
       "      <td>...</td>\n",
       "      <td>NaN</td>\n",
       "      <td>NaN</td>\n",
       "      <td>S</td>\n",
       "      <td>NaN</td>\n",
       "      <td>8.7932</td>\n",
       "      <td>-130.5594</td>\n",
       "      <td>-6.8320</td>\n",
       "      <td>1.0</td>\n",
       "      <td>0.0</td>\n",
       "      <td>14.0</td>\n",
       "    </tr>\n",
       "    <tr>\n",
       "      <th>1</th>\n",
       "      <td>78.0</td>\n",
       "      <td>3.0</td>\n",
       "      <td>SEA</td>\n",
       "      <td>-12.1848</td>\n",
       "      <td>30.3901</td>\n",
       "      <td>-13.5343</td>\n",
       "      <td>NaN</td>\n",
       "      <td>1.0</td>\n",
       "      <td>2.0</td>\n",
       "      <td>543760.0</td>\n",
       "      <td>...</td>\n",
       "      <td>NaN</td>\n",
       "      <td>NaN</td>\n",
       "      <td>S</td>\n",
       "      <td>NaN</td>\n",
       "      <td>7.6343</td>\n",
       "      <td>-139.2375</td>\n",
       "      <td>-3.2386</td>\n",
       "      <td>NaN</td>\n",
       "      <td>NaN</td>\n",
       "      <td>1.0</td>\n",
       "    </tr>\n",
       "    <tr>\n",
       "      <th>2</th>\n",
       "      <td>78.0</td>\n",
       "      <td>3.0</td>\n",
       "      <td>SEA</td>\n",
       "      <td>-13.6757</td>\n",
       "      <td>30.2055</td>\n",
       "      <td>-13.3334</td>\n",
       "      <td>NaN</td>\n",
       "      <td>1.0</td>\n",
       "      <td>2.0</td>\n",
       "      <td>543760.0</td>\n",
       "      <td>...</td>\n",
       "      <td>NaN</td>\n",
       "      <td>NaN</td>\n",
       "      <td>S</td>\n",
       "      <td>NaN</td>\n",
       "      <td>9.8748</td>\n",
       "      <td>-141.5434</td>\n",
       "      <td>-7.1408</td>\n",
       "      <td>NaN</td>\n",
       "      <td>NaN</td>\n",
       "      <td>8.0</td>\n",
       "    </tr>\n",
       "    <tr>\n",
       "      <th>3</th>\n",
       "      <td>78.0</td>\n",
       "      <td>3.0</td>\n",
       "      <td>SEA</td>\n",
       "      <td>-12.9264</td>\n",
       "      <td>30.2367</td>\n",
       "      <td>-13.3760</td>\n",
       "      <td>NaN</td>\n",
       "      <td>1.0</td>\n",
       "      <td>2.0</td>\n",
       "      <td>543760.0</td>\n",
       "      <td>...</td>\n",
       "      <td>NaN</td>\n",
       "      <td>NaN</td>\n",
       "      <td>S</td>\n",
       "      <td>NaN</td>\n",
       "      <td>11.5425</td>\n",
       "      <td>-139.6329</td>\n",
       "      <td>-4.8346</td>\n",
       "      <td>NaN</td>\n",
       "      <td>NaN</td>\n",
       "      <td>12.0</td>\n",
       "    </tr>\n",
       "    <tr>\n",
       "      <th>4</th>\n",
       "      <td>78.0</td>\n",
       "      <td>3.0</td>\n",
       "      <td>SEA</td>\n",
       "      <td>1.4249</td>\n",
       "      <td>22.3068</td>\n",
       "      <td>-26.6226</td>\n",
       "      <td>NaN</td>\n",
       "      <td>1.0</td>\n",
       "      <td>2.0</td>\n",
       "      <td>543760.0</td>\n",
       "      <td>...</td>\n",
       "      <td>NaN</td>\n",
       "      <td>NaN</td>\n",
       "      <td>S</td>\n",
       "      <td>NaN</td>\n",
       "      <td>4.4702</td>\n",
       "      <td>-127.7250</td>\n",
       "      <td>-1.0670</td>\n",
       "      <td>NaN</td>\n",
       "      <td>NaN</td>\n",
       "      <td>1.0</td>\n",
       "    </tr>\n",
       "  </tbody>\n",
       "</table>\n",
       "<p>5 rows × 91 columns</p>\n",
       "</div>"
      ],
      "text/plain": [
       "   at_bat_number  away_score away_team       ax       ay       az  \\\n",
       "0           78.0         3.0       SEA  -0.6934  25.2146 -25.2738   \n",
       "1           78.0         3.0       SEA -12.1848  30.3901 -13.5343   \n",
       "2           78.0         3.0       SEA -13.6757  30.2055 -13.3334   \n",
       "3           78.0         3.0       SEA -12.9264  30.2367 -13.3760   \n",
       "4           78.0         3.0       SEA   1.4249  22.3068 -26.6226   \n",
       "\n",
       "   babip_value  balls  bat_score    batter  ... tfs_deprecated  \\\n",
       "0          0.0    1.0        2.0  543760.0  ...            NaN   \n",
       "1          NaN    1.0        2.0  543760.0  ...            NaN   \n",
       "2          NaN    1.0        2.0  543760.0  ...            NaN   \n",
       "3          NaN    1.0        2.0  543760.0  ...            NaN   \n",
       "4          NaN    1.0        2.0  543760.0  ...            NaN   \n",
       "\n",
       "   tfs_zulu_deprecated  type umpire      vx0       vy0     vz0  woba_denom  \\\n",
       "0                  NaN     S    NaN   8.7932 -130.5594 -6.8320         1.0   \n",
       "1                  NaN     S    NaN   7.6343 -139.2375 -3.2386         NaN   \n",
       "2                  NaN     S    NaN   9.8748 -141.5434 -7.1408         NaN   \n",
       "3                  NaN     S    NaN  11.5425 -139.6329 -4.8346         NaN   \n",
       "4                  NaN     S    NaN   4.4702 -127.7250 -1.0670         NaN   \n",
       "\n",
       "   woba_value  zone  \n",
       "0         0.0  14.0  \n",
       "1         NaN   1.0  \n",
       "2         NaN   8.0  \n",
       "3         NaN  12.0  \n",
       "4         NaN   1.0  \n",
       "\n",
       "[5 rows x 91 columns]"
      ]
     },
     "execution_count": 4,
     "metadata": {},
     "output_type": "execute_result"
    }
   ],
   "source": [
    "stats.head()"
   ]
  },
  {
   "cell_type": "code",
   "execution_count": 5,
   "metadata": {},
   "outputs": [
    {
     "data": {
      "text/plain": [
       "field_out                       11705\n",
       "strikeout                        6408\n",
       "single                           4160\n",
       "walk                             2312\n",
       "double                           1376\n",
       "home_run                          874\n",
       "force_out                         585\n",
       "grounded_into_double_play         552\n",
       "hit_by_pitch                      295\n",
       "field_error                       251\n",
       "sac_fly                           189\n",
       "sac_bunt                          133\n",
       "triple                            119\n",
       "double_play                        73\n",
       "fielders_choice_out                45\n",
       "strikeout_double_play              35\n",
       "caught_stealing_2b                 30\n",
       "fielders_choice                    16\n",
       "other_out                           9\n",
       "pickoff_caught_stealing_2b          7\n",
       "catcher_interf                      4\n",
       "pickoff_1b                          3\n",
       "caught_stealing_3b                  3\n",
       "pickoff_2b                          2\n",
       "caught_stealing_home                2\n",
       "pickoff_caught_stealing_home        2\n",
       "triple_play                         1\n",
       "run                                 1\n",
       "pickoff_caught_stealing_3b          1\n",
       "Name: events, dtype: int64"
      ]
     },
     "execution_count": 5,
     "metadata": {},
     "output_type": "execute_result"
    }
   ],
   "source": [
    "stats.events.dropna().value_counts()"
   ]
  },
  {
   "cell_type": "code",
   "execution_count": 6,
   "metadata": {},
   "outputs": [
    {
     "data": {
      "text/plain": [
       "<matplotlib.axes._subplots.AxesSubplot at 0x1189878d0>"
      ]
     },
     "execution_count": 6,
     "metadata": {},
     "output_type": "execute_result"
    },
    {
     "data": {
      "image/png": "[encoded data removed]",
      "text/plain": [
       "<Figure size 432x288 with 1 Axes>"
      ]
     },
     "metadata": {
      "needs_background": "light"
     },
     "output_type": "display_data"
    }
   ],
   "source": [
    "stats.events.dropna().value_counts().plot(kind='bar')"
   ]
  },
  {
   "cell_type": "markdown",
   "metadata": {},
   "source": [
    "#### Now these need to map this to the existing dice roll options"
   ]
  },
  {
   "cell_type": "code",
   "execution_count": 7,
   "metadata": {},
   "outputs": [],
   "source": [
    "original_outcomes = ['double', 'single', 'base on error', 'base on balls', 'strike', 'foul out', 'out at 1st', 'fly out', 'double play', 'triple', 'home run' ]\n",
    "# I think the handling of strikes vs balls is inconsistent. We're going to drop those\n",
    "original_outcomes = [i for i in original_outcomes if i is not 'strike']"
   ]
  },
  {
   "cell_type": "markdown",
   "metadata": {},
   "source": [
    "Now create the mapping. I'll try to comment less obvious ones. We'll have to drop things that aren't handled in the simulation correctly, or map them, but limited number of dice throws and need to be representative of frequency so creating new mappings in the simulation isn't a great idea"
   ]
  },
  {
   "cell_type": "code",
   "execution_count": 8,
   "metadata": {},
   "outputs": [],
   "source": [
    "statcast_to_outcome_mapping ={\n",
    "    'field_out' : 'out at 1st',\n",
    "    'strikeout' : 'strike out', # I made my own \"strikeout\" result for when 3 strikes happen back to back. Handled the same as out at 1st, could sub it too\n",
    "    'single' : 'single',\n",
    "    'walk' : 'base on balls',\n",
    "    'double' : 'double',\n",
    "    'home_run': 'home run',\n",
    "    'force_out': 'out at 1st',\n",
    "    'grounded_into_double_play': 'double play',\n",
    "    'hit_by_pitch': 'base on balls', # effectively the same thing\n",
    "    'field_error': 'base on error',\n",
    "    'sac_fly': 'DROP', # Sacrifices aren't handled well in the existing simulation. We can drop it, I suppose\n",
    "    'sac_bunt': 'DROP',\n",
    "    'triple': 'triple',\n",
    "    'double_play': 'double play',\n",
    "    'fielders_choice_out': 'DROP', # This unfortunately isn't handled well in the simulation either, since it would put out the leading runner\n",
    "    'strikeout_double_play': 'DROP', # same\n",
    "    'caught_stealing_2b': 'DROP', # same\n",
    "    'fielders_choice' : 'DROP', #same\n",
    "    'other_out': 'DROP', # This could be a fair amount of other things, not clear how it would progress the state\n",
    "    'pickoff_caught_stealing_2b': 'DROP',\n",
    "    'pickoff_1b': 'DROP',\n",
    "    'caught_stealing_3b': 'DROP',\n",
    "    'pickoff_2b': 'DROP',\n",
    "    'catcher_interf': 'base on balls', # Same as a walk\n",
    "    'caught_stealing_home': 'DROP',\n",
    "    'pickoff_caught_stealing_home': 'DROP',\n",
    "    'triple_play': 'DROP',\n",
    "    'run': 'DROP', # This is ambiguous and there's only 1 so not a big deal to drop it\n",
    "}"
   ]
  },
  {
   "cell_type": "markdown",
   "metadata": {},
   "source": [
    "A note here, we don't have anything mapped to \"foul out.\" These are absorbed into \"out at first.\" We'll just call the \"out at 1st\" outcome a generic \"field out\" compared to strike outs."
   ]
  },
  {
   "cell_type": "code",
   "execution_count": 9,
   "metadata": {},
   "outputs": [],
   "source": [
    "for key in statcast_to_outcome_mapping:\n",
    "    if statcast_to_outcome_mapping[key] == 'out at 1st':\n",
    "        statcast_to_outcome_mapping[key] = 'field out'"
   ]
  },
  {
   "cell_type": "code",
   "execution_count": 10,
   "metadata": {},
   "outputs": [],
   "source": [
    "new_outcomes = stats.events.map(statcast_to_outcome_mapping)\n",
    "stats['dice_outcome'] = new_outcomes\n",
    "reduced_dataframe =  stats.query('dice_outcome != \"DROP\"')"
   ]
  },
  {
   "cell_type": "code",
   "execution_count": 11,
   "metadata": {},
   "outputs": [
    {
     "data": {
      "text/plain": [
       "field out        12290\n",
       "strike out        6408\n",
       "single            4160\n",
       "base on balls     2611\n",
       "double            1376\n",
       "home run           874\n",
       "double play        625\n",
       "base on error      251\n",
       "triple             119\n",
       "Name: dice_outcome, dtype: int64"
      ]
     },
     "execution_count": 11,
     "metadata": {},
     "output_type": "execute_result"
    }
   ],
   "source": [
    "freq = reduced_dataframe.dice_outcome.dropna().value_counts()\n",
    "freq"
   ]
  },
  {
   "cell_type": "markdown",
   "metadata": {},
   "source": [
    "We've got the frequency of each dice event in real life baseball - let's plot it"
   ]
  },
  {
   "cell_type": "code",
   "execution_count": 12,
   "metadata": {},
   "outputs": [
    {
     "data": {
      "text/plain": [
       "<matplotlib.axes._subplots.AxesSubplot at 0x11449d320>"
      ]
     },
     "execution_count": 12,
     "metadata": {},
     "output_type": "execute_result"
    },
    {
     "data": {
      "image/png": "[encoded data removed]",
      "text/plain": [
       "<Figure size 432x288 with 1 Axes>"
      ]
     },
     "metadata": {
      "needs_background": "light"
     },
     "output_type": "display_data"
    }
   ],
   "source": [
    "freq.plot(kind='bar')"
   ]
  },
  {
   "cell_type": "markdown",
   "metadata": {},
   "source": [
    "We need to fit these within a scale of 21 dice roll options\n",
    "\n",
    "Just to be sure I know how statistics work - quickly show of dice roll probabilties "
   ]
  },
  {
   "cell_type": "code",
   "execution_count": 13,
   "metadata": {},
   "outputs": [],
   "source": [
    "import random\n",
    "rolls = []\n",
    "for i in range(0,100000):\n",
    "    dice_1 = random.randrange(1,7)\n",
    "    dice_2 = random.randrange(1,7)\n",
    "    rolls.append(tuple(sorted((dice_1,dice_2))))"
   ]
  },
  {
   "cell_type": "code",
   "execution_count": 14,
   "metadata": {},
   "outputs": [
    {
     "data": {
      "text/plain": [
       "([<matplotlib.axis.XTick at 0x114092fd0>,\n",
       "  <matplotlib.axis.XTick at 0x114092908>,\n",
       "  <matplotlib.axis.XTick at 0x114092630>,\n",
       "  <matplotlib.axis.XTick at 0x115947358>,\n",
       "  <matplotlib.axis.XTick at 0x1159477b8>,\n",
       "  <matplotlib.axis.XTick at 0x115947c88>,\n",
       "  <matplotlib.axis.XTick at 0x115951198>,\n",
       "  <matplotlib.axis.XTick at 0x1159516a0>,\n",
       "  <matplotlib.axis.XTick at 0x115951ba8>,\n",
       "  <matplotlib.axis.XTick at 0x115947160>,\n",
       "  <matplotlib.axis.XTick at 0x1159510f0>,\n",
       "  <matplotlib.axis.XTick at 0x115959320>,\n",
       "  <matplotlib.axis.XTick at 0x115959828>,\n",
       "  <matplotlib.axis.XTick at 0x115959d30>,\n",
       "  <matplotlib.axis.XTick at 0x115961278>,\n",
       "  <matplotlib.axis.XTick at 0x115961780>,\n",
       "  <matplotlib.axis.XTick at 0x115961c88>,\n",
       "  <matplotlib.axis.XTick at 0x11596a1d0>,\n",
       "  <matplotlib.axis.XTick at 0x115961828>,\n",
       "  <matplotlib.axis.XTick at 0x115959278>,\n",
       "  <matplotlib.axis.XTick at 0x11596a198>],\n",
       " <a list of 21 Text xticklabel objects>)"
      ]
     },
     "execution_count": 14,
     "metadata": {},
     "output_type": "execute_result"
    },
    {
     "data": {
      "image/png": "[encoded data removed]",
      "text/plain": [
       "<Figure size 864x576 with 1 Axes>"
      ]
     },
     "metadata": {
      "needs_background": "light"
     },
     "output_type": "display_data"
    }
   ],
   "source": [
    "from collections import Counter\n",
    "k = Counter(rolls)\n",
    "\n",
    "fig = plt.figure(figsize=(12,8))\n",
    "x=range(len(k))\n",
    "y=[k[key] for key in sorted(k)]\n",
    "xlabels=[str(t) for t in sorted(k)]\n",
    "plt.bar(x,y,width=1 )\n",
    "# set the labels at the middle of the bars\n",
    "plt.xticks(x,xlabels, rotation='vertical')"
   ]
  },
  {
   "cell_type": "markdown",
   "metadata": {},
   "source": [
    "Doubles are half as likely as others (this is because doubles only happen in one configuration - first shows value, second shows same value, while non doubles can be A,B or B,A)\n",
    "\n",
    "So rather than considering it on a scale of 21 possibilities, we consider it on a scale of 36, one for each dice configuration"
   ]
  },
  {
   "cell_type": "code",
   "execution_count": 15,
   "metadata": {},
   "outputs": [
    {
     "data": {
      "text/plain": [
       "field out        103.277311\n",
       "strike out        53.848739\n",
       "single            34.957983\n",
       "base on balls     21.941176\n",
       "double            11.563025\n",
       "home run           7.344538\n",
       "double play        5.252101\n",
       "base on error      2.109244\n",
       "triple             1.000000\n",
       "Name: dice_outcome, dtype: float64"
      ]
     },
     "execution_count": 15,
     "metadata": {},
     "output_type": "execute_result"
    }
   ],
   "source": [
    "# Try to just make triple the lowest denominator\n",
    "normed_freq = freq/119\n",
    "normed_freq"
   ]
  },
  {
   "cell_type": "code",
   "execution_count": 16,
   "metadata": {},
   "outputs": [
    {
     "data": {
      "text/plain": [
       "241.29411764705884"
      ]
     },
     "execution_count": 16,
     "metadata": {},
     "output_type": "execute_result"
    }
   ],
   "source": [
    "normed_freq.sum()"
   ]
  },
  {
   "cell_type": "markdown",
   "metadata": {},
   "source": [
    "Okay, so we're not going to get this perfect obviously. So let's assign the very rare ones to double digits then work from there"
   ]
  },
  {
   "cell_type": "code",
   "execution_count": 17,
   "metadata": {},
   "outputs": [],
   "source": [
    "updated_assignments = {\n",
    "    (1,1) : 'triple',\n",
    "    (2,2) : 'base on error',\n",
    "    (3,3) : 'double play',\n",
    "    (4,4) : 'home run',\n",
    "}"
   ]
  },
  {
   "cell_type": "code",
   "execution_count": 18,
   "metadata": {},
   "outputs": [],
   "source": [
    "update_freq = normed_freq\n",
    "for i in updated_assignments:\n",
    "    update_freq = update_freq.drop(updated_assignments[i])"
   ]
  },
  {
   "cell_type": "code",
   "execution_count": 19,
   "metadata": {},
   "outputs": [
    {
     "data": {
      "text/plain": [
       "field out        103.277311\n",
       "strike out        53.848739\n",
       "single            34.957983\n",
       "base on balls     21.941176\n",
       "double            11.563025\n",
       "Name: dice_outcome, dtype: float64"
      ]
     },
     "execution_count": 19,
     "metadata": {},
     "output_type": "execute_result"
    }
   ],
   "source": [
    "update_freq"
   ]
  },
  {
   "cell_type": "code",
   "execution_count": 20,
   "metadata": {},
   "outputs": [
    {
     "name": "stdout",
     "output_type": "stream",
     "text": [
      "field out        8.0\n",
      "strike out       4.0\n",
      "single           3.0\n",
      "base on balls    2.0\n",
      "double           1.0\n",
      "Name: dice_outcome, dtype: float64\n",
      "sum:  18.0\n"
     ]
    }
   ],
   "source": [
    "norm = update_freq/12.34\n",
    "print(norm.round())\n",
    "print (\"sum: \", norm.round().sum()) \n"
   ]
  },
  {
   "cell_type": "markdown",
   "metadata": {},
   "source": [
    "okay, so we now have about 20 \"outcomes\" to map to 32 spaces. Remember that non-doubles count as 2 spaces"
   ]
  },
  {
   "cell_type": "code",
   "execution_count": 21,
   "metadata": {},
   "outputs": [],
   "source": [
    "more_updated_assignments = {\n",
    "    (5,5) : 'double', # 1 double achieved\n",
    "\n",
    "    (6,6) : 'strike out',\n",
    "    (1, 2): 'strike out',\n",
    "    (1, 3): 'strike out', # 5 strike outs achieved\n",
    "\n",
    "    (1, 4): 'base on balls', # 2 base on balls achieved\n",
    "\n",
    "    (1, 5): 'single',\n",
    "    (1, 6): 'single', # odd number for single, but out of doubles, so we'll add one extra...\n",
    "\n",
    "    (2, 3): 'field out',\n",
    "    (2, 4): 'field out',\n",
    "    (2, 5): 'field out',\n",
    "    (2, 6): 'field out',\n",
    "    (3, 4): 'field out', # same for singles but for outs.\n",
    "    \n",
    "    # okay, now I've got 5 more spaces to map. What we'll do is start with a baseline cancelling with generally docile events - mix of singles, outs roughly cancelling.\n",
    "    (3, 5): 'field out',\n",
    "    (3, 6): 'strike out',\n",
    "    (4, 5): 'single',\n",
    "    (4, 6): 'base on balls',\n",
    "    (5, 6): 'single',\n",
    "    \n",
    "}"
   ]
  },
  {
   "cell_type": "code",
   "execution_count": 22,
   "metadata": {},
   "outputs": [],
   "source": [
    "# Merge dictionaries\n",
    "final_new_outcomes = {**updated_assignments, **more_updated_assignments}"
   ]
  },
  {
   "cell_type": "markdown",
   "metadata": {},
   "source": [
    "To figure out how to best approximate the real game, we need to find the average scoring for real baseball....."
   ]
  },
  {
   "cell_type": "markdown",
   "metadata": {},
   "source": [
    "## Find Actual Distribution\n",
    "To motivate how to better map those last few slots and to get as close to a real game as possible, we need to find the actual distribution of runs/game from MLB"
   ]
  },
  {
   "cell_type": "code",
   "execution_count": 23,
   "metadata": {},
   "outputs": [],
   "source": [
    "from pybaseball.retrosheet import *"
   ]
  },
  {
   "cell_type": "code",
   "execution_count": 24,
   "metadata": {},
   "outputs": [],
   "source": [
    "logs = season_game_logs(2018)"
   ]
  },
  {
   "cell_type": "code",
   "execution_count": 25,
   "metadata": {},
   "outputs": [
    {
     "data": {
      "image/png": "[encoded data removed]",
      "text/plain": [
       "<Figure size 576x432 with 1 Axes>"
      ]
     },
     "metadata": {
      "needs_background": "light"
     },
     "output_type": "display_data"
    }
   ],
   "source": [
    "total_score = logs['home_score'] + logs['visiting_score']\n",
    "\n",
    "fig = plt.figure(figsize=(8,6))\n",
    "ax = plt.gca()\n",
    "total_score.hist(ax=ax, density=True, bins=np.arange(total_score.min(),total_score.max(),2))\n",
    "plt.xlabel('Total Score', fontsize=16)\n",
    "plt.ylabel('Count (normalized)', fontsize=16)\n",
    "plt.title('')\n",
    "ax.tick_params(axis='both', which='major', labelsize=14)\n",
    "\n",
    "mean_total_score = total_score.mean()\n",
    "num_games = total_score.count()\n",
    "def leg_add_histo_info(mean_total_score, num_games, ax):\n",
    "    s1 = 'Histogram Mean = %.2f'%mean_total_score\n",
    "    s2 = '2018 MLB ({:,} games)'.format(num_games)\n",
    "    extra1 = Rectangle((0, 0), 1, 1, fc=\"w\", fill=False, edgecolor='none', linewidth=0, label=s1)\n",
    "    extra2 = Rectangle((0, 0), 1, 1, fc=\"w\", fill=False, edgecolor='none', linewidth=0, label=s2)\n",
    "    handles, labels = ax.get_legend_handles_labels()\n",
    "    for obj, label in zip([extra1,extra2], [s1,s2]):\n",
    "        handles.append(obj)\n",
    "        labels.append(label)\n",
    "    return handles, labels\n",
    "        \n",
    "\n",
    "handles, labels = leg_add_histo_info(mean_total_score,num_games, ax)  \n",
    "plt.legend(handles=handles, labels=labels, loc='best',fontsize=14, frameon=False)\n",
    "ax.grid(b=False)\n",
    "\n",
    "# add watermark\n",
    "plt.annotate(s=\"Tyler James Burch\", xy=(.01,.033), xycoords='figure fraction',\n",
    "                 textcoords='figure fraction', color='grey',alpha=0.7, fontsize=14)\n",
    "\n",
    "plt.savefig(\"plots/mlb_scores.png\")"
   ]
  },
  {
   "cell_type": "markdown",
   "metadata": {},
   "source": [
    "### Run simulation with new values\n"
   ]
  },
  {
   "cell_type": "code",
   "execution_count": 26,
   "metadata": {},
   "outputs": [],
   "source": [
    "from simulator import *"
   ]
  },
  {
   "cell_type": "code",
   "execution_count": 27,
   "metadata": {},
   "outputs": [],
   "source": [
    "# approximate field out to fly out\n",
    "subbed_dict = {}\n",
    "for key in final_new_outcomes:\n",
    "    if final_new_outcomes[key] == 'field out':\n",
    "            subbed_dict[key] = 'fly out'\n",
    "    else: subbed_dict[key] = final_new_outcomes[key]"
   ]
  },
  {
   "cell_type": "code",
   "execution_count": 28,
   "metadata": {},
   "outputs": [
    {
     "data": {
      "text/plain": [
       "{(1, 1): 'triple',\n",
       " (2, 2): 'base on error',\n",
       " (3, 3): 'double play',\n",
       " (4, 4): 'home run',\n",
       " (5, 5): 'double',\n",
       " (6, 6): 'strike out',\n",
       " (1, 2): 'strike out',\n",
       " (1, 3): 'strike out',\n",
       " (1, 4): 'base on balls',\n",
       " (1, 5): 'single',\n",
       " (1, 6): 'single',\n",
       " (2, 3): 'fly out',\n",
       " (2, 4): 'fly out',\n",
       " (2, 5): 'fly out',\n",
       " (2, 6): 'fly out',\n",
       " (3, 4): 'fly out',\n",
       " (3, 5): 'fly out',\n",
       " (3, 6): 'strike out',\n",
       " (4, 5): 'single',\n",
       " (4, 6): 'base on balls',\n",
       " (5, 6): 'single'}"
      ]
     },
     "execution_count": 28,
     "metadata": {},
     "output_type": "execute_result"
    }
   ],
   "source": [
    "subbed_dict"
   ]
  },
  {
   "cell_type": "code",
   "execution_count": 29,
   "metadata": {},
   "outputs": [],
   "source": [
    "def run_sim(outcome_map, num_simulations):\n",
    "    with open('data/retooled_run_simulations.csv','w') as f:\n",
    "        f.write('simulation_no,home_score,away_score,total_score\\n')\n",
    "        for i in range(0,num_simulations):\n",
    "            simulation = Game()\n",
    "            simulation.simulate(outcome_map)\n",
    "            home_score = sum(simulation.home_box_score)\n",
    "            away_score = sum(simulation.away_box_score)\n",
    "            total_s = home_score + away_score\n",
    "            f.write('%i,%i,%i,%i\\n' % (i, home_score, away_score, total_s))\n",
    "\n",
    "run_sim(subbed_dict,10000)\n"
   ]
  },
  {
   "cell_type": "code",
   "execution_count": 30,
   "metadata": {},
   "outputs": [],
   "source": [
    "new_sim = pd.read_csv('data/retooled_run_simulations.csv')"
   ]
  },
  {
   "cell_type": "code",
   "execution_count": 31,
   "metadata": {},
   "outputs": [
    {
     "name": "stdout",
     "output_type": "stream",
     "text": [
      "10000\n",
      "19.8976\n"
     ]
    }
   ],
   "source": [
    "print(new_sim['total_score'].count())\n",
    "print(new_sim['total_score'].mean())"
   ]
  },
  {
   "cell_type": "markdown",
   "metadata": {},
   "source": [
    "So we're down to 19 on average - This is closer than before! So let's make some of the positive ones negative, then rerun.\n",
    "\n",
    "Truthfully here I played with these values a bit until I got the mean ~ the same as actual"
   ]
  },
  {
   "cell_type": "code",
   "execution_count": 32,
   "metadata": {},
   "outputs": [],
   "source": [
    "# (4, 5): 'single' -> out\n",
    "subbed_dict[(4, 5)] = 'fly out'\n",
    "# (5, 6): 'single' -> out\n",
    "subbed_dict[(4, 6)] = 'strike out'\n",
    "# (5, 6): 'single' -> out\n",
    "subbed_dict[(5, 6)] = 'base on balls'"
   ]
  },
  {
   "cell_type": "code",
   "execution_count": 33,
   "metadata": {},
   "outputs": [
    {
     "name": "stdout",
     "output_type": "stream",
     "text": [
      "100000\n",
      "9.47255\n"
     ]
    }
   ],
   "source": [
    "run_sim(subbed_dict,100000)\n",
    "new_sim = pd.read_csv('data/retooled_run_simulations.csv')\n",
    "print(new_sim['total_score'].count())\n",
    "print(new_sim['total_score'].mean())"
   ]
  },
  {
   "cell_type": "markdown",
   "metadata": {},
   "source": [
    "Nice! We've designed a game less than 0.6 runs/game away from the real MLB runs/game on average. Let's see how it looks in terms of the distribution. "
   ]
  },
  {
   "cell_type": "code",
   "execution_count": 34,
   "metadata": {},
   "outputs": [
    {
     "data": {
      "image/png": "[encoded data removed]",
      "text/plain": [
       "<Figure size 576x432 with 1 Axes>"
      ]
     },
     "metadata": {
      "needs_background": "light"
     },
     "output_type": "display_data"
    }
   ],
   "source": [
    "new_total_score = new_sim['total_score']\n",
    "\n",
    "fig = plt.figure(figsize=(8,6))\n",
    "ax = plt.gca()\n",
    "h1 = new_total_score.hist(ax=ax, density=True, bins=np.arange(new_total_score.min(),new_total_score.max(),2))\n",
    "plt.xlabel('Total Score', fontsize=16)\n",
    "plt.ylabel('Count (normalized)', fontsize=16)\n",
    "plt.title('')\n",
    "ax.tick_params(axis='both', which='major', labelsize=14)\n",
    "\n",
    "new_mean_total_score = new_total_score.mean()\n",
    "new_num_games = new_total_score.count()\n",
    "\n",
    "handles, labels = leg_add_histo_info(new_mean_total_score,new_num_games, ax)  \n",
    "plt.legend(handles=handles, labels=labels, loc='best',fontsize=14, frameon=False)\n",
    "ax.grid(b=False)\n",
    "\n",
    "# add watermark\n",
    "plt.annotate(s=\"Tyler James Burch\", xy=(.01,.033), xycoords='figure fraction',\n",
    "                 textcoords='figure fraction', color='grey',alpha=0.7, fontsize=14)\n",
    "\n",
    "plt.savefig(\"plots/updated_simulation_hist.png\")"
   ]
  },
  {
   "cell_type": "markdown",
   "metadata": {},
   "source": [
    "The final solution dictionary is as follows:"
   ]
  },
  {
   "cell_type": "code",
   "execution_count": 35,
   "metadata": {},
   "outputs": [
    {
     "data": {
      "text/plain": [
       "{(1, 1): 'triple',\n",
       " (2, 2): 'base on error',\n",
       " (3, 3): 'double play',\n",
       " (4, 4): 'home run',\n",
       " (5, 5): 'double',\n",
       " (6, 6): 'strike out',\n",
       " (1, 2): 'strike out',\n",
       " (1, 3): 'strike out',\n",
       " (1, 4): 'base on balls',\n",
       " (1, 5): 'single',\n",
       " (1, 6): 'single',\n",
       " (2, 3): 'fly out',\n",
       " (2, 4): 'fly out',\n",
       " (2, 5): 'fly out',\n",
       " (2, 6): 'fly out',\n",
       " (3, 4): 'fly out',\n",
       " (3, 5): 'fly out',\n",
       " (3, 6): 'strike out',\n",
       " (4, 5): 'fly out',\n",
       " (4, 6): 'strike out',\n",
       " (5, 6): 'base on balls'}"
      ]
     },
     "execution_count": 35,
     "metadata": {},
     "output_type": "execute_result"
    }
   ],
   "source": [
    "subbed_dict"
   ]
  },
  {
   "cell_type": "markdown",
   "metadata": {},
   "source": [
    "Overlaying the solutions:"
   ]
  },
  {
   "cell_type": "code",
   "execution_count": 36,
   "metadata": {},
   "outputs": [
    {
     "data": {
      "image/png": "[encoded data removed]",
      "text/plain": [
       "<Figure size 576x432 with 1 Axes>"
      ]
     },
     "metadata": {
      "needs_background": "light"
     },
     "output_type": "display_data"
    }
   ],
   "source": [
    "fig =plt.figure(figsize=(8,6))\n",
    "ax = plt.gca()\n",
    "h1 = total_score.hist(ax=ax, density=True, bins=np.arange(total_score.min(),total_score.max(),2), alpha= 0.5, label=\"MLB 2018 ({0:,} games) \\n $\\mu={1:.2f}$\".format(num_games, mean_total_score))\n",
    "h2 = new_total_score.hist(ax=ax, density=True, bins=np.arange(new_total_score.min(),new_total_score.max(),2), alpha=0.5, label=\"Updated Dice Game \\n$\\mu={0:.2f}$ \\n{1:,} Simulations\".format(new_mean_total_score, new_num_games))\n",
    "plt.xlabel('Total Score', fontsize=16)\n",
    "plt.ylabel('Count (normalized)', fontsize=16)\n",
    "plt.title('')\n",
    "ax.tick_params(axis='both', which='major', labelsize=14)\n",
    "\n",
    "plt.legend(frameon=False, fontsize=16)\n",
    "ax.grid(b=False)\n",
    "# add watermark\n",
    "plt.annotate(s=\"Tyler James Burch\", xy=(.01,.033), xycoords='figure fraction',\n",
    "                 textcoords='figure fraction', color='grey',alpha=0.7, fontsize=14)\n",
    "\n",
    "plt.savefig('plots/mlb_simulation_overlay.png')"
   ]
  },
  {
   "cell_type": "markdown",
   "metadata": {},
   "source": [
    "These actually look pretty good! Seems our new game models the true distribution of runs scored in baseball fairly well!"
   ]
  }
 ],
 "metadata": {
  "kernelspec": {
   "display_name": "puzzle3.7",
   "language": "python",
   "name": "puzzle3.7"
  },
  "language_info": {
   "codemirror_mode": {
    "name": "ipython",
    "version": 3
   },
   "file_extension": ".py",
   "mimetype": "text/x-python",
   "name": "python",
   "nbconvert_exporter": "python",
   "pygments_lexer": "ipython3",
   "version": "3.7.2"
  }
 },
 "nbformat": 4,
 "nbformat_minor": 2
}
