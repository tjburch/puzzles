{
 "cells": [
  {
   "cell_type": "code",
   "execution_count": 1,
   "metadata": {},
   "outputs": [],
   "source": [
    "from pybaseball import statcast\n",
    "import matplotlib.pyplot as plt\n",
    "%matplotlib inline\n",
    "import pandas as pd\n",
    "import numpy as np"
   ]
  },
  {
   "cell_type": "markdown",
   "metadata": {},
   "source": [
    "### Use statcast to get info on the rates of events\n",
    "Grab 1 week of data per month for decent representative sample"
   ]
  },
  {
   "cell_type": "code",
   "execution_count": 2,
   "metadata": {},
   "outputs": [
    {
     "name": "stdout",
     "output_type": "stream",
     "text": [
      "This is a large query, it may take a moment to complete\n",
      "Completed sub-query from 2018-05-15 to 2018-05-20\n",
      "Completed sub-query from 2018-05-21 to 2018-05-22\n",
      "This is a large query, it may take a moment to complete\n",
      "Completed sub-query from 2018-06-15 to 2018-06-20\n",
      "Completed sub-query from 2018-06-21 to 2018-06-22\n",
      "This is a large query, it may take a moment to complete\n",
      "Completed sub-query from 2018-07-01 to 2018-07-06\n",
      "Completed sub-query from 2018-07-07 to 2018-07-07\n",
      "This is a large query, it may take a moment to complete\n",
      "Completed sub-query from 2018-08-15 to 2018-08-20\n",
      "Completed sub-query from 2018-08-21 to 2018-08-22\n"
     ]
    }
   ],
   "source": [
    "# Using 2016 data since that's the most recent in associated lahman database\n",
    "may_df = statcast(start_dt='2018-05-15', end_dt='2018-05-22')\n",
    "june_df = statcast(start_dt='2018-06-15', end_dt='2018-06-22')\n",
    "july_df = statcast(start_dt='2018-07-01', end_dt='2018-07-07') # avoids All star break\n",
    "august_df = statcast(start_dt='2018-08-15', end_dt='2018-08-22') \n"
   ]
  },
  {
   "cell_type": "code",
   "execution_count": 3,
   "metadata": {},
   "outputs": [],
   "source": [
    "stats = pd.concat([may_df, june_df, july_df, august_df])"
   ]
  },
  {
   "cell_type": "code",
   "execution_count": 4,
   "metadata": {},
   "outputs": [
    {
     "data": {
      "text/html": [
       "<div>\n",
       "<style scoped>\n",
       "    .dataframe tbody tr th:only-of-type {\n",
       "        vertical-align: middle;\n",
       "    }\n",
       "\n",
       "    .dataframe tbody tr th {\n",
       "        vertical-align: top;\n",
       "    }\n",
       "\n",
       "    .dataframe thead th {\n",
       "        text-align: right;\n",
       "    }\n",
       "</style>\n",
       "<table border=\"1\" class=\"dataframe\">\n",
       "  <thead>\n",
       "    <tr style=\"text-align: right;\">\n",
       "      <th></th>\n",
       "      <th>index</th>\n",
       "      <th>pitch_type</th>\n",
       "      <th>game_date</th>\n",
       "      <th>release_speed</th>\n",
       "      <th>release_pos_x</th>\n",
       "      <th>release_pos_z</th>\n",
       "      <th>player_name</th>\n",
       "      <th>batter</th>\n",
       "      <th>pitcher</th>\n",
       "      <th>events</th>\n",
       "      <th>...</th>\n",
       "      <th>home_score</th>\n",
       "      <th>away_score</th>\n",
       "      <th>bat_score</th>\n",
       "      <th>fld_score</th>\n",
       "      <th>post_away_score</th>\n",
       "      <th>post_home_score</th>\n",
       "      <th>post_bat_score</th>\n",
       "      <th>post_fld_score</th>\n",
       "      <th>if_fielding_alignment</th>\n",
       "      <th>of_fielding_alignment</th>\n",
       "    </tr>\n",
       "  </thead>\n",
       "  <tbody>\n",
       "    <tr>\n",
       "      <th>0</th>\n",
       "      <td>67</td>\n",
       "      <td>SL</td>\n",
       "      <td>2018-05-22</td>\n",
       "      <td>89.8</td>\n",
       "      <td>-2.6624</td>\n",
       "      <td>5.5526</td>\n",
       "      <td>Edwin Diaz</td>\n",
       "      <td>543760.0</td>\n",
       "      <td>621242.0</td>\n",
       "      <td>strikeout</td>\n",
       "      <td>...</td>\n",
       "      <td>2.0</td>\n",
       "      <td>3.0</td>\n",
       "      <td>2.0</td>\n",
       "      <td>3.0</td>\n",
       "      <td>3.0</td>\n",
       "      <td>2.0</td>\n",
       "      <td>2.0</td>\n",
       "      <td>3.0</td>\n",
       "      <td>Standard</td>\n",
       "      <td>Standard</td>\n",
       "    </tr>\n",
       "    <tr>\n",
       "      <th>1</th>\n",
       "      <td>73</td>\n",
       "      <td>FF</td>\n",
       "      <td>2018-05-22</td>\n",
       "      <td>95.7</td>\n",
       "      <td>-2.7134</td>\n",
       "      <td>5.5129</td>\n",
       "      <td>Edwin Diaz</td>\n",
       "      <td>543760.0</td>\n",
       "      <td>621242.0</td>\n",
       "      <td>NaN</td>\n",
       "      <td>...</td>\n",
       "      <td>2.0</td>\n",
       "      <td>3.0</td>\n",
       "      <td>2.0</td>\n",
       "      <td>3.0</td>\n",
       "      <td>3.0</td>\n",
       "      <td>2.0</td>\n",
       "      <td>2.0</td>\n",
       "      <td>3.0</td>\n",
       "      <td>Standard</td>\n",
       "      <td>Standard</td>\n",
       "    </tr>\n",
       "    <tr>\n",
       "      <th>2</th>\n",
       "      <td>78</td>\n",
       "      <td>FF</td>\n",
       "      <td>2018-05-22</td>\n",
       "      <td>97.4</td>\n",
       "      <td>-2.7590</td>\n",
       "      <td>5.3907</td>\n",
       "      <td>Edwin Diaz</td>\n",
       "      <td>543760.0</td>\n",
       "      <td>621242.0</td>\n",
       "      <td>NaN</td>\n",
       "      <td>...</td>\n",
       "      <td>2.0</td>\n",
       "      <td>3.0</td>\n",
       "      <td>2.0</td>\n",
       "      <td>3.0</td>\n",
       "      <td>3.0</td>\n",
       "      <td>2.0</td>\n",
       "      <td>2.0</td>\n",
       "      <td>3.0</td>\n",
       "      <td>Standard</td>\n",
       "      <td>Standard</td>\n",
       "    </tr>\n",
       "    <tr>\n",
       "      <th>3</th>\n",
       "      <td>84</td>\n",
       "      <td>FF</td>\n",
       "      <td>2018-05-22</td>\n",
       "      <td>96.2</td>\n",
       "      <td>-2.6647</td>\n",
       "      <td>5.5366</td>\n",
       "      <td>Edwin Diaz</td>\n",
       "      <td>543760.0</td>\n",
       "      <td>621242.0</td>\n",
       "      <td>NaN</td>\n",
       "      <td>...</td>\n",
       "      <td>2.0</td>\n",
       "      <td>3.0</td>\n",
       "      <td>2.0</td>\n",
       "      <td>3.0</td>\n",
       "      <td>3.0</td>\n",
       "      <td>2.0</td>\n",
       "      <td>2.0</td>\n",
       "      <td>3.0</td>\n",
       "      <td>Standard</td>\n",
       "      <td>Standard</td>\n",
       "    </tr>\n",
       "    <tr>\n",
       "      <th>4</th>\n",
       "      <td>94</td>\n",
       "      <td>SL</td>\n",
       "      <td>2018-05-22</td>\n",
       "      <td>87.6</td>\n",
       "      <td>-2.7418</td>\n",
       "      <td>5.6177</td>\n",
       "      <td>Edwin Diaz</td>\n",
       "      <td>543760.0</td>\n",
       "      <td>621242.0</td>\n",
       "      <td>NaN</td>\n",
       "      <td>...</td>\n",
       "      <td>2.0</td>\n",
       "      <td>3.0</td>\n",
       "      <td>2.0</td>\n",
       "      <td>3.0</td>\n",
       "      <td>3.0</td>\n",
       "      <td>2.0</td>\n",
       "      <td>2.0</td>\n",
       "      <td>3.0</td>\n",
       "      <td>Standard</td>\n",
       "      <td>Standard</td>\n",
       "    </tr>\n",
       "  </tbody>\n",
       "</table>\n",
       "<p>5 rows × 90 columns</p>\n",
       "</div>"
      ],
      "text/plain": [
       "   index pitch_type  game_date  release_speed  release_pos_x  release_pos_z  \\\n",
       "0     67         SL 2018-05-22           89.8        -2.6624         5.5526   \n",
       "1     73         FF 2018-05-22           95.7        -2.7134         5.5129   \n",
       "2     78         FF 2018-05-22           97.4        -2.7590         5.3907   \n",
       "3     84         FF 2018-05-22           96.2        -2.6647         5.5366   \n",
       "4     94         SL 2018-05-22           87.6        -2.7418         5.6177   \n",
       "\n",
       "  player_name    batter   pitcher     events  ... home_score  away_score  \\\n",
       "0  Edwin Diaz  543760.0  621242.0  strikeout  ...        2.0         3.0   \n",
       "1  Edwin Diaz  543760.0  621242.0        NaN  ...        2.0         3.0   \n",
       "2  Edwin Diaz  543760.0  621242.0        NaN  ...        2.0         3.0   \n",
       "3  Edwin Diaz  543760.0  621242.0        NaN  ...        2.0         3.0   \n",
       "4  Edwin Diaz  543760.0  621242.0        NaN  ...        2.0         3.0   \n",
       "\n",
       "   bat_score  fld_score  post_away_score  post_home_score post_bat_score  \\\n",
       "0        2.0        3.0              3.0              2.0            2.0   \n",
       "1        2.0        3.0              3.0              2.0            2.0   \n",
       "2        2.0        3.0              3.0              2.0            2.0   \n",
       "3        2.0        3.0              3.0              2.0            2.0   \n",
       "4        2.0        3.0              3.0              2.0            2.0   \n",
       "\n",
       "  post_fld_score if_fielding_alignment of_fielding_alignment  \n",
       "0            3.0              Standard              Standard  \n",
       "1            3.0              Standard              Standard  \n",
       "2            3.0              Standard              Standard  \n",
       "3            3.0              Standard              Standard  \n",
       "4            3.0              Standard              Standard  \n",
       "\n",
       "[5 rows x 90 columns]"
      ]
     },
     "execution_count": 4,
     "metadata": {},
     "output_type": "execute_result"
    }
   ],
   "source": [
    "stats.head()"
   ]
  },
  {
   "cell_type": "code",
   "execution_count": 5,
   "metadata": {},
   "outputs": [
    {
     "data": {
      "text/plain": [
       "field_out                       12610\n",
       "strikeout                        6908\n",
       "single                           4501\n",
       "walk                             2457\n",
       "double                           1470\n",
       "home_run                          949\n",
       "force_out                         618\n",
       "grounded_into_double_play         592\n",
       "hit_by_pitch                      317\n",
       "field_error                       276\n",
       "sac_fly                           203\n",
       "sac_bunt                          144\n",
       "triple                            129\n",
       "double_play                        79\n",
       "fielders_choice_out                49\n",
       "strikeout_double_play              37\n",
       "caught_stealing_2b                 33\n",
       "fielders_choice                    18\n",
       "other_out                           9\n",
       "pickoff_caught_stealing_2b          7\n",
       "catcher_interf                      4\n",
       "pickoff_1b                          3\n",
       "caught_stealing_3b                  3\n",
       "pickoff_caught_stealing_home        2\n",
       "caught_stealing_home                2\n",
       "pickoff_2b                          2\n",
       "pickoff_caught_stealing_3b          1\n",
       "run                                 1\n",
       "triple_play                         1\n",
       "Name: events, dtype: int64"
      ]
     },
     "execution_count": 5,
     "metadata": {},
     "output_type": "execute_result"
    }
   ],
   "source": [
    "stats.events.dropna().value_counts()"
   ]
  },
  {
   "cell_type": "code",
   "execution_count": 6,
   "metadata": {},
   "outputs": [
    {
     "data": {
      "text/plain": [
       "<matplotlib.axes._subplots.AxesSubplot at 0x10897bd30>"
      ]
     },
     "execution_count": 6,
     "metadata": {},
     "output_type": "execute_result"
    },
    {
     "data": {
      "image/png": "[encoded data removed]",
      "text/plain": [
       "<Figure size 432x288 with 1 Axes>"
      ]
     },
     "metadata": {
      "needs_background": "light"
     },
     "output_type": "display_data"
    }
   ],
   "source": [
    "stats.events.dropna().value_counts().plot(kind='bar')"
   ]
  },
  {
   "cell_type": "markdown",
   "metadata": {},
   "source": [
    "#### Now these need to map this to the existing dice roll options"
   ]
  },
  {
   "cell_type": "code",
   "execution_count": 7,
   "metadata": {},
   "outputs": [],
   "source": [
    "original_outcomes = ['double', 'single', 'base on error', 'base on balls', 'strike', 'foul out', 'out at 1st', 'fly out', 'double play', 'triple', 'home run' ]\n",
    "# I think the handling of strikes vs balls is inconsistent. We're going to drop those\n",
    "original_outcomes = [i for i in original_outcomes if i is not 'strike']"
   ]
  },
  {
   "cell_type": "markdown",
   "metadata": {},
   "source": [
    "Now create the mapping. I'll try to comment less obvious ones. We'll have to drop things that aren't handled in the simulation correctly, or map them, but limited number of dice throws and need to be representative of frequency so creating new mappings in the simulation isn't a great idea"
   ]
  },
  {
   "cell_type": "code",
   "execution_count": 8,
   "metadata": {},
   "outputs": [],
   "source": [
    "statcast_to_outcome_mapping ={\n",
    "    'field_out' : 'out at 1st',\n",
    "    'strikeout' : 'strike out', # I made my own \"strikeout\" result for when 3 strikes happen back to back. Handled the same as out at 1st, could sub it too\n",
    "    'single' : 'single',\n",
    "    'walk' : 'base on balls',\n",
    "    'double' : 'double',\n",
    "    'home_run': 'home run',\n",
    "    'force_out': 'out at 1st',\n",
    "    'grounded_into_double_play': 'double play',\n",
    "    'hit_by_pitch': 'base on balls', # effectively the same thing\n",
    "    'field_error': 'base on error',\n",
    "    'sac_fly': 'DROP', # Sacrifices aren't handled well in the existing simulation. We can drop it, I suppose\n",
    "    'sac_bunt': 'DROP',\n",
    "    'triple': 'triple',\n",
    "    'double_play': 'double play',\n",
    "    'fielders_choice_out': 'DROP', # This unfortunately isn't handled well in the simulation either, since it would put out the leading runner\n",
    "    'strikeout_double_play': 'DROP', # same\n",
    "    'caught_stealing_2b': 'DROP', # same\n",
    "    'fielders_choice' : 'DROP', #same\n",
    "    'other_out': 'DROP', # This could be a fair amount of other things, not clear how it would progress the state\n",
    "    'pickoff_caught_stealing_2b': 'DROP',\n",
    "    'pickoff_1b': 'DROP',\n",
    "    'caught_stealing_3b': 'DROP',\n",
    "    'pickoff_2b': 'DROP',\n",
    "    'catcher_interf': 'base on balls', # Same as a walk\n",
    "    'caught_stealing_home': 'DROP',\n",
    "    'pickoff_caught_stealing_home': 'DROP',\n",
    "    'triple_play': 'DROP',\n",
    "    'run': 'DROP', # This is ambiguous and there's only 1 so not a big deal to drop it\n",
    "}"
   ]
  },
  {
   "cell_type": "markdown",
   "metadata": {},
   "source": [
    "A note here, we don't have anything mapped to \"foul out.\" These are absorbed into \"out at first.\" We'll just call the \"out at 1st\" outcome a generic \"field out\" compared to strike outs."
   ]
  },
  {
   "cell_type": "code",
   "execution_count": 9,
   "metadata": {},
   "outputs": [],
   "source": [
    "for key in statcast_to_outcome_mapping:\n",
    "    if statcast_to_outcome_mapping[key] == 'out at 1st':\n",
    "        statcast_to_outcome_mapping[key] = 'field out'"
   ]
  },
  {
   "cell_type": "code",
   "execution_count": 10,
   "metadata": {},
   "outputs": [],
   "source": [
    "new_outcomes = stats.events.map(statcast_to_outcome_mapping)\n",
    "stats['dice_outcome'] = new_outcomes\n",
    "reduced_dataframe =  stats.query('dice_outcome != \"DROP\"')"
   ]
  },
  {
   "cell_type": "code",
   "execution_count": 11,
   "metadata": {},
   "outputs": [
    {
     "data": {
      "text/plain": [
       "field out        13228\n",
       "strike out        6908\n",
       "single            4501\n",
       "base on balls     2778\n",
       "double            1470\n",
       "home run           949\n",
       "double play        671\n",
       "base on error      276\n",
       "triple             129\n",
       "Name: dice_outcome, dtype: int64"
      ]
     },
     "execution_count": 11,
     "metadata": {},
     "output_type": "execute_result"
    }
   ],
   "source": [
    "freq = reduced_dataframe.dice_outcome.dropna().value_counts()\n",
    "freq"
   ]
  },
  {
   "cell_type": "markdown",
   "metadata": {},
   "source": [
    "We've got the frequency of each dice event in real life baseball - let's plot it"
   ]
  },
  {
   "cell_type": "code",
   "execution_count": 12,
   "metadata": {},
   "outputs": [
    {
     "data": {
      "text/plain": [
       "<matplotlib.axes._subplots.AxesSubplot at 0x113dcba90>"
      ]
     },
     "execution_count": 12,
     "metadata": {},
     "output_type": "execute_result"
    },
    {
     "data": {
      "image/png": "[encoded data removed]",
      "text/plain": [
       "<Figure size 432x288 with 1 Axes>"
      ]
     },
     "metadata": {
      "needs_background": "light"
     },
     "output_type": "display_data"
    }
   ],
   "source": [
    "freq.plot(kind='bar')"
   ]
  },
  {
   "cell_type": "markdown",
   "metadata": {},
   "source": [
    "We need to fit these within a scale of 21 dice roll options\n",
    "\n",
    "Just to be sure I know how statistics work - quickly show of dice roll probabilties "
   ]
  },
  {
   "cell_type": "code",
   "execution_count": 13,
   "metadata": {},
   "outputs": [],
   "source": [
    "import random\n",
    "rolls = []\n",
    "for i in range(0,100000):\n",
    "    dice_1 = random.randrange(1,7)\n",
    "    dice_2 = random.randrange(1,7)\n",
    "    rolls.append(tuple(sorted((dice_1,dice_2))))"
   ]
  },
  {
   "cell_type": "code",
   "execution_count": 14,
   "metadata": {},
   "outputs": [
    {
     "data": {
      "text/plain": [
       "([<matplotlib.axis.XTick at 0x115af4668>,\n",
       "  <matplotlib.axis.XTick at 0x115af1f60>,\n",
       "  <matplotlib.axis.XTick at 0x115af1cf8>,\n",
       "  <matplotlib.axis.XTick at 0x115b3c9b0>,\n",
       "  <matplotlib.axis.XTick at 0x115b3ce48>,\n",
       "  <matplotlib.axis.XTick at 0x115b44358>,\n",
       "  <matplotlib.axis.XTick at 0x115b44828>,\n",
       "  <matplotlib.axis.XTick at 0x115b44d30>,\n",
       "  <matplotlib.axis.XTick at 0x115b448d0>,\n",
       "  <matplotlib.axis.XTick at 0x115b3ce10>,\n",
       "  <matplotlib.axis.XTick at 0x115b4c5f8>,\n",
       "  <matplotlib.axis.XTick at 0x115b4cb00>,\n",
       "  <matplotlib.axis.XTick at 0x115b550b8>,\n",
       "  <matplotlib.axis.XTick at 0x115b55550>,\n",
       "  <matplotlib.axis.XTick at 0x115b55a58>,\n",
       "  <matplotlib.axis.XTick at 0x115b55f60>,\n",
       "  <matplotlib.axis.XTick at 0x115b5d4a8>,\n",
       "  <matplotlib.axis.XTick at 0x115b558d0>,\n",
       "  <matplotlib.axis.XTick at 0x115b4cac8>,\n",
       "  <matplotlib.axis.XTick at 0x115b5d668>,\n",
       "  <matplotlib.axis.XTick at 0x115b5de48>],\n",
       " <a list of 21 Text xticklabel objects>)"
      ]
     },
     "execution_count": 14,
     "metadata": {},
     "output_type": "execute_result"
    },
    {
     "data": {
      "image/png": "[encoded data removed]",
      "text/plain": [
       "<Figure size 864x576 with 1 Axes>"
      ]
     },
     "metadata": {
      "needs_background": "light"
     },
     "output_type": "display_data"
    }
   ],
   "source": [
    "from collections import Counter\n",
    "k = Counter(rolls)\n",
    "\n",
    "fig = plt.figure(figsize=(12,8))\n",
    "x=range(len(k))\n",
    "y=[k[key] for key in sorted(k)]\n",
    "xlabels=[str(t) for t in sorted(k)]\n",
    "plt.bar(x,y,width=1 )\n",
    "# set the labels at the middle of the bars\n",
    "plt.xticks(x,xlabels, rotation='vertical')"
   ]
  },
  {
   "cell_type": "markdown",
   "metadata": {},
   "source": [
    "Doubles are half as likely as others (this is because doubles only happen in one configuration - first shows value, second shows same value, while non doubles can be A,B or B,A)\n",
    "\n",
    "So rather than considering it on a scale of 21 possibilities, we consider it on a scale of 36, one for each dice configuration"
   ]
  },
  {
   "cell_type": "code",
   "execution_count": 15,
   "metadata": {},
   "outputs": [
    {
     "data": {
      "text/plain": [
       "field out        111.159664\n",
       "strike out        58.050420\n",
       "single            37.823529\n",
       "base on balls     23.344538\n",
       "double            12.352941\n",
       "home run           7.974790\n",
       "double play        5.638655\n",
       "base on error      2.319328\n",
       "triple             1.084034\n",
       "Name: dice_outcome, dtype: float64"
      ]
     },
     "execution_count": 15,
     "metadata": {},
     "output_type": "execute_result"
    }
   ],
   "source": [
    "# Try to just make triple the lowest denominator\n",
    "normed_freq = freq/119\n",
    "normed_freq"
   ]
  },
  {
   "cell_type": "code",
   "execution_count": 16,
   "metadata": {},
   "outputs": [
    {
     "data": {
      "text/plain": [
       "259.74789915966386"
      ]
     },
     "execution_count": 16,
     "metadata": {},
     "output_type": "execute_result"
    }
   ],
   "source": [
    "normed_freq.sum()"
   ]
  },
  {
   "cell_type": "markdown",
   "metadata": {},
   "source": [
    "Okay, so we're not going to get this perfect obviously. So let's assign the very rare ones to double digits then work from there"
   ]
  },
  {
   "cell_type": "code",
   "execution_count": 17,
   "metadata": {},
   "outputs": [],
   "source": [
    "updated_assignments = {\n",
    "    (1,1) : 'triple',\n",
    "    (2,2) : 'base on error',\n",
    "    (3,3) : 'double play',\n",
    "    (4,4) : 'home run',\n",
    "}"
   ]
  },
  {
   "cell_type": "code",
   "execution_count": 18,
   "metadata": {},
   "outputs": [],
   "source": [
    "update_freq = normed_freq\n",
    "for i in updated_assignments:\n",
    "    update_freq = update_freq.drop(updated_assignments[i])"
   ]
  },
  {
   "cell_type": "code",
   "execution_count": 19,
   "metadata": {},
   "outputs": [
    {
     "data": {
      "text/plain": [
       "field out        111.159664\n",
       "strike out        58.050420\n",
       "single            37.823529\n",
       "base on balls     23.344538\n",
       "double            12.352941\n",
       "Name: dice_outcome, dtype: float64"
      ]
     },
     "execution_count": 19,
     "metadata": {},
     "output_type": "execute_result"
    }
   ],
   "source": [
    "update_freq"
   ]
  },
  {
   "cell_type": "code",
   "execution_count": 20,
   "metadata": {},
   "outputs": [
    {
     "name": "stdout",
     "output_type": "stream",
     "text": [
      "field out        9.0\n",
      "strike out       5.0\n",
      "single           3.0\n",
      "base on balls    2.0\n",
      "double           1.0\n",
      "Name: dice_outcome, dtype: float64\n",
      "sum:  20.0\n"
     ]
    }
   ],
   "source": [
    "norm = update_freq/12.34\n",
    "print(norm.round())\n",
    "print (\"sum: \", norm.round().sum()) \n"
   ]
  },
  {
   "cell_type": "markdown",
   "metadata": {},
   "source": [
    "okay, so we now have about 20 \"outcomes\" to map to 32 spaces. Remember that non-doubles count as 2 spaces"
   ]
  },
  {
   "cell_type": "code",
   "execution_count": 21,
   "metadata": {},
   "outputs": [],
   "source": [
    "more_updated_assignments = {\n",
    "    (5,5) : 'double', # 1 double achieved\n",
    "\n",
    "    (6,6) : 'strike out',\n",
    "    (1, 2): 'strike out',\n",
    "    (1, 3): 'strike out', # 5 strike outs achieved\n",
    "\n",
    "    (1, 4): 'base on balls', # 2 base on balls achieved\n",
    "\n",
    "    (1, 5): 'single',\n",
    "    (1, 6): 'single', # odd number for single, but out of doubles, so we'll add one extra...\n",
    "\n",
    "    (2, 3): 'field out',\n",
    "    (2, 4): 'field out',\n",
    "    (2, 5): 'field out',\n",
    "    (2, 6): 'field out',\n",
    "    (3, 4): 'field out', # same for singles but for outs.\n",
    "    \n",
    "    # okay, now I've got 5 more spaces to map. What we'll do is start with a baseline cancelling with generally docile events - mix of singles, outs roughly cancelling.\n",
    "    (3, 5): 'field out',\n",
    "    (3, 6): 'strike out',\n",
    "    (4, 5): 'single',\n",
    "    (4, 6): 'base on balls',\n",
    "    (5, 6): 'single',\n",
    "    \n",
    "}"
   ]
  },
  {
   "cell_type": "code",
   "execution_count": 22,
   "metadata": {},
   "outputs": [],
   "source": [
    "# Merge dictionaries\n",
    "final_new_outcomes = {**updated_assignments, **more_updated_assignments}"
   ]
  },
  {
   "cell_type": "markdown",
   "metadata": {},
   "source": [
    "To figure out how to best approximate the real game, we need to find the average scoring for real baseball....."
   ]
  },
  {
   "cell_type": "markdown",
   "metadata": {},
   "source": [
    "## Find Actual Distribution\n",
    "To motivate how to better map those last few slots and to get as close to a real game as possible, we need to find the actual distribution of runs/game from MLB"
   ]
  },
  {
   "cell_type": "code",
   "execution_count": 23,
   "metadata": {},
   "outputs": [],
   "source": [
    "from pybaseball.retrosheet import *"
   ]
  },
  {
   "cell_type": "code",
   "execution_count": 24,
   "metadata": {},
   "outputs": [],
   "source": [
    "logs = season_game_logs(2018)"
   ]
  },
  {
   "cell_type": "code",
   "execution_count": 43,
   "metadata": {},
   "outputs": [
    {
     "data": {
      "image/png": "[encoded data removed]",
      "text/plain": [
       "<Figure size 576x432 with 1 Axes>"
      ]
     },
     "metadata": {
      "needs_background": "light"
     },
     "output_type": "display_data"
    }
   ],
   "source": [
    "total_score = logs['home_score'] + logs['visiting_score']\n",
    "\n",
    "fig = plt.figure(figsize=(8,6))\n",
    "ax = plt.gca()\n",
    "total_score.hist(ax=ax, density=True, bins=np.arange(total_score.min(),total_score.max(),2))\n",
    "plt.xlabel('Total Score', fontsize=16)\n",
    "plt.ylabel('Count (normalized)', fontsize=16)\n",
    "plt.title('')\n",
    "ax.tick_params(axis='both', which='major', labelsize=14)\n",
    "\n",
    "mean_total_score = total_score.mean()\n",
    "num_games = total_score.count()\n",
    "def leg_add_histo_info(mean_total_score, num_games, ax):\n",
    "    s1 = 'Histogram Mean = %.2f'%mean_total_score\n",
    "    s2 = '2018 MLB ({:,} games)'.format(num_games)\n",
    "    extra1 = Rectangle((0, 0), 1, 1, fc=\"w\", fill=False, edgecolor='none', linewidth=0, label=s1)\n",
    "    extra2 = Rectangle((0, 0), 1, 1, fc=\"w\", fill=False, edgecolor='none', linewidth=0, label=s2)\n",
    "    handles, labels = ax.get_legend_handles_labels()\n",
    "    for obj, label in zip([extra1,extra2], [s1,s2]):\n",
    "        handles.append(obj)\n",
    "        labels.append(label)\n",
    "    return handles, labels\n",
    "        \n",
    "\n",
    "handles, labels = leg_add_histo_info(mean_total_score,num_games, ax)  \n",
    "plt.legend(handles=handles, labels=labels, loc='best',fontsize=14, frameon=False)\n",
    "ax.grid(b=False)\n",
    "\n",
    "# add watermark\n",
    "plt.annotate(s=\"Tyler James Burch\", xy=(.01,.033), xycoords='figure fraction',\n",
    "                 textcoords='figure fraction', color='grey',alpha=0.7, fontsize=14)\n",
    "\n",
    "plt.savefig(\"plots/mlb_scores.png\")"
   ]
  },
  {
   "cell_type": "markdown",
   "metadata": {},
   "source": [
    "### Run simulation with new values\n"
   ]
  },
  {
   "cell_type": "code",
   "execution_count": 26,
   "metadata": {},
   "outputs": [],
   "source": [
    "from simulator import *"
   ]
  },
  {
   "cell_type": "code",
   "execution_count": 27,
   "metadata": {},
   "outputs": [],
   "source": [
    "# approximate field out to fly out\n",
    "subbed_dict = {}\n",
    "for key in final_new_outcomes:\n",
    "    if final_new_outcomes[key] == 'field out':\n",
    "            subbed_dict[key] = 'fly out'\n",
    "    else: subbed_dict[key] = final_new_outcomes[key]"
   ]
  },
  {
   "cell_type": "code",
   "execution_count": 28,
   "metadata": {},
   "outputs": [
    {
     "data": {
      "text/plain": [
       "{(1, 1): 'triple',\n",
       " (2, 2): 'base on error',\n",
       " (3, 3): 'double play',\n",
       " (4, 4): 'home run',\n",
       " (5, 5): 'double',\n",
       " (6, 6): 'strike out',\n",
       " (1, 2): 'strike out',\n",
       " (1, 3): 'strike out',\n",
       " (1, 4): 'base on balls',\n",
       " (1, 5): 'single',\n",
       " (1, 6): 'single',\n",
       " (2, 3): 'fly out',\n",
       " (2, 4): 'fly out',\n",
       " (2, 5): 'fly out',\n",
       " (2, 6): 'fly out',\n",
       " (3, 4): 'fly out',\n",
       " (3, 5): 'fly out',\n",
       " (3, 6): 'strike out',\n",
       " (4, 5): 'single',\n",
       " (4, 6): 'base on balls',\n",
       " (5, 6): 'single'}"
      ]
     },
     "execution_count": 28,
     "metadata": {},
     "output_type": "execute_result"
    }
   ],
   "source": [
    "subbed_dict"
   ]
  },
  {
   "cell_type": "code",
   "execution_count": 29,
   "metadata": {},
   "outputs": [],
   "source": [
    "def run_sim(outcome_map, num_simulations):\n",
    "    with open('data/retooled_run_simulations.csv','w') as f:\n",
    "        f.write('simulation_no,home_score,away_score,total_score\\n')\n",
    "        for i in range(0,num_simulations):\n",
    "            simulation = Game()\n",
    "            simulation.simulate(outcome_map)\n",
    "            home_score = sum(simulation.home_box_score)\n",
    "            away_score = sum(simulation.away_box_score)\n",
    "            total_s = home_score + away_score\n",
    "            f.write('%i,%i,%i,%i\\n' % (i, home_score, away_score, total_s))\n",
    "\n",
    "run_sim(subbed_dict,10000)\n"
   ]
  },
  {
   "cell_type": "code",
   "execution_count": 30,
   "metadata": {},
   "outputs": [],
   "source": [
    "new_sim = pd.read_csv('data/retooled_run_simulations.csv')"
   ]
  },
  {
   "cell_type": "code",
   "execution_count": 31,
   "metadata": {},
   "outputs": [
    {
     "name": "stdout",
     "output_type": "stream",
     "text": [
      "10000\n",
      "19.8689\n"
     ]
    }
   ],
   "source": [
    "print(new_sim['total_score'].count())\n",
    "print(new_sim['total_score'].mean())"
   ]
  },
  {
   "cell_type": "markdown",
   "metadata": {},
   "source": [
    "So we're down to 19 on average - This is closer than before! So let's make some of the positive ones negative, then rerun.\n",
    "\n",
    "Truthfully here I played with these values a bit until I got the mean ~ the same as actual"
   ]
  },
  {
   "cell_type": "code",
   "execution_count": 32,
   "metadata": {},
   "outputs": [],
   "source": [
    "# (4, 5): 'single' -> out\n",
    "subbed_dict[(4, 5)] = 'fly out'\n",
    "# (5, 6): 'single' -> out\n",
    "subbed_dict[(4, 6)] = 'strike out'\n",
    "# (5, 6): 'single' -> out\n",
    "subbed_dict[(5, 6)] = 'base on balls'"
   ]
  },
  {
   "cell_type": "code",
   "execution_count": 33,
   "metadata": {},
   "outputs": [
    {
     "name": "stdout",
     "output_type": "stream",
     "text": [
      "100000\n",
      "9.47868\n"
     ]
    }
   ],
   "source": [
    "run_sim(subbed_dict,100000)\n",
    "new_sim = pd.read_csv('data/retooled_run_simulations.csv')\n",
    "print(new_sim['total_score'].count())\n",
    "print(new_sim['total_score'].mean())"
   ]
  },
  {
   "cell_type": "markdown",
   "metadata": {},
   "source": [
    "Nice! We've designed a game less than 0.6 runs/game away from the real MLB runs/game on average. Let's see how it looks in terms of the distribution. "
   ]
  },
  {
   "cell_type": "code",
   "execution_count": 42,
   "metadata": {},
   "outputs": [
    {
     "data": {
      "image/png": "[encoded data removed]",
      "text/plain": [
       "<Figure size 576x432 with 1 Axes>"
      ]
     },
     "metadata": {
      "needs_background": "light"
     },
     "output_type": "display_data"
    }
   ],
   "source": [
    "new_total_score = new_sim['total_score']\n",
    "\n",
    "fig = plt.figure(figsize=(8,6))\n",
    "ax = plt.gca()\n",
    "h1 = new_total_score.hist(ax=ax, density=True, bins=np.arange(new_total_score.min(),new_total_score.max(),2))\n",
    "plt.xlabel('Total Score', fontsize=16)\n",
    "plt.ylabel('Count (normalized)', fontsize=16)\n",
    "plt.title('')\n",
    "ax.tick_params(axis='both', which='major', labelsize=14)\n",
    "\n",
    "new_mean_total_score = new_total_score.mean()\n",
    "new_num_games = new_total_score.count()\n",
    "\n",
    "handles, labels = leg_add_histo_info(new_mean_total_score,new_num_games, ax)  \n",
    "plt.legend(handles=handles, labels=labels, loc='best',fontsize=14, frameon=False)\n",
    "ax.grid(b=False)\n",
    "\n",
    "# add watermark\n",
    "plt.annotate(s=\"Tyler James Burch\", xy=(.01,.033), xycoords='figure fraction',\n",
    "                 textcoords='figure fraction', color='grey',alpha=0.7, fontsize=14)\n",
    "\n",
    "plt.savefig(\"plots/updated_simulation_hist.png\")"
   ]
  },
  {
   "cell_type": "markdown",
   "metadata": {},
   "source": [
    "The final solution dictionary is as follows:"
   ]
  },
  {
   "cell_type": "code",
   "execution_count": 35,
   "metadata": {},
   "outputs": [
    {
     "data": {
      "text/plain": [
       "{(1, 1): 'triple',\n",
       " (2, 2): 'base on error',\n",
       " (3, 3): 'double play',\n",
       " (4, 4): 'home run',\n",
       " (5, 5): 'double',\n",
       " (6, 6): 'strike out',\n",
       " (1, 2): 'strike out',\n",
       " (1, 3): 'strike out',\n",
       " (1, 4): 'base on balls',\n",
       " (1, 5): 'single',\n",
       " (1, 6): 'single',\n",
       " (2, 3): 'fly out',\n",
       " (2, 4): 'fly out',\n",
       " (2, 5): 'fly out',\n",
       " (2, 6): 'fly out',\n",
       " (3, 4): 'fly out',\n",
       " (3, 5): 'fly out',\n",
       " (3, 6): 'strike out',\n",
       " (4, 5): 'fly out',\n",
       " (4, 6): 'strike out',\n",
       " (5, 6): 'base on balls'}"
      ]
     },
     "execution_count": 35,
     "metadata": {},
     "output_type": "execute_result"
    }
   ],
   "source": [
    "subbed_dict"
   ]
  },
  {
   "cell_type": "markdown",
   "metadata": {},
   "source": [
    "Overlaying the solutions:"
   ]
  },
  {
   "cell_type": "code",
   "execution_count": 39,
   "metadata": {},
   "outputs": [
    {
     "data": {
      "image/png": "[encoded data removed]",
      "text/plain": [
       "<Figure size 576x432 with 1 Axes>"
      ]
     },
     "metadata": {
      "needs_background": "light"
     },
     "output_type": "display_data"
    }
   ],
   "source": [
    "fig =plt.figure(figsize=(8,6))\n",
    "ax = plt.gca()\n",
    "h1 = total_score.hist(ax=ax, density=True, bins=np.arange(total_score.min(),total_score.max(),2), alpha= 0.5, label=\"MLB 2018 ({0:,} games) \\n $\\mu={1:.2f}$\".format(num_games, mean_total_score))\n",
    "h2 = new_total_score.hist(ax=ax, density=True, bins=np.arange(new_total_score.min(),new_total_score.max(),2), alpha=0.5, label=\"Updated Dice Game \\n$\\mu={0:.2f}$ \\n{1:,} Simulations\".format(new_mean_total_score, new_num_games))\n",
    "plt.legend(frameon=False, fontsize=16)\n",
    "ax.grid(b=False)\n",
    "plt.savefig('plots/mlb_simulation_overlay.png')"
   ]
  },
  {
   "cell_type": "markdown",
   "metadata": {},
   "source": [
    "These actually look pretty good! Seems our new game models the true distribution of runs scored in baseball fairly well!"
   ]
  }
 ],
 "metadata": {
  "kernelspec": {
   "display_name": "puzzle3.7",
   "language": "python",
   "name": "puzzle3.7"
  },
  "language_info": {
   "codemirror_mode": {
    "name": "ipython",
    "version": 3
   },
   "file_extension": ".py",
   "mimetype": "text/x-python",
   "name": "python",
   "nbconvert_exporter": "python",
   "pygments_lexer": "ipython3",
   "version": "3.7.2"
  }
 },
 "nbformat": 4,
 "nbformat_minor": 2
}
