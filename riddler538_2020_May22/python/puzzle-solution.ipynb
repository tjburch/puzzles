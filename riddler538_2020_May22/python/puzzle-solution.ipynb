{
 "cells": [
  {
   "cell_type": "markdown",
   "metadata": {},
   "source": [
    "# Riddler Classic - May 22, 2020\n",
    "\n",
    "https://fivethirtyeight.com/features/somethings-fishy-in-the-state-of-the-riddler/\n",
    "\n",
    "Ohio is the only state whose name doesn’t share any letters with the word “mackerel.” It’s strange, but it’s true.\n",
    "\n",
    "But that isn’t the only pairing of a state and a word you can say that about — it’s not even the only fish! Kentucky has “goldfish” to itself, Montana has “jellyfish” and Delaware has “monkfish,” just to name a few.\n",
    "\n",
    "What is the longest “mackerel?” That is, what is the longest word that doesn’t share any letters with exactly one state? (If multiple “mackerels” are tied for being the longest, can you find them all?)\n",
    "\n",
    "Extra credit: Which state has the most “mackerels?” That is, which state has the most words for which it is the only state without any letters in common with those words?"
   ]
  },
  {
   "cell_type": "markdown",
   "metadata": {},
   "source": [
    "### Load data"
   ]
  },
  {
   "cell_type": "code",
   "execution_count": 1,
   "metadata": {},
   "outputs": [],
   "source": [
    "import pickle\n",
    "wordlist = pickle.load(open(\"../data/word-list.pkl\",\"rb\"))\n",
    "wordlist = [w.decode(\"utf-8\") for w in wordlist]\n",
    "statelist = pickle.load(open(\"../data/state-list.pkl\",\"rb\"))\n",
    "statelist = [state.lower() for state in statelist]"
   ]
  },
  {
   "cell_type": "code",
   "execution_count": 2,
   "metadata": {},
   "outputs": [
    {
     "name": "stdout",
     "output_type": "stream",
     "text": [
      "There are 263533 total words\n",
      "There are 50 total states\n"
     ]
    }
   ],
   "source": [
    "print(f\"There are {len(wordlist)} total words\")\n",
    "print(f\"There are {len(statelist)} total states\")"
   ]
  },
  {
   "cell_type": "markdown",
   "metadata": {},
   "source": [
    "### Do some quick dataset checks"
   ]
  },
  {
   "cell_type": "code",
   "execution_count": 3,
   "metadata": {},
   "outputs": [
    {
     "name": "stderr",
     "output_type": "stream",
     "text": [
      "\n",
      "Bad key \"axes.color_cycle\" on line 26 in\n",
      "/Users/tburch/.matplotlib/stylelib/tjb.mplstyle.\n",
      "You probably need to get an updated matplotlibrc file from\n",
      "http://github.com/matplotlib/matplotlib/blob/master/matplotlibrc.template\n",
      "or from the matplotlib source distribution\n"
     ]
    }
   ],
   "source": [
    "import matplotlib.pyplot as plt\n",
    "plt.style.use(\"tjb\")\n",
    "import numpy as np"
   ]
  },
  {
   "cell_type": "code",
   "execution_count": 4,
   "metadata": {},
   "outputs": [
    {
     "name": "stdout",
     "output_type": "stream",
     "text": [
      "The longest word is pneumonoultramicroscopicsilicovolcanoconiosis\n",
      "The 5 longest words are ['pneumonoultramicroscopicsilicovolcanoconiosis', 'dichlorodiphenyltrichloroethanes', 'dichlorodiphenyltrichloroethane', 'floccinaucinihilipilifications', 'floccinaucinihilipilification'] of lengths [45, 32, 31, 30, 29]\n"
     ]
    }
   ],
   "source": [
    "mylen = np.vectorize(len)\n",
    "longest = wordlist[np.argmax(mylen(wordlist))]\n",
    "print(f\"The longest word is {longest}\")\n",
    "length_sorted_words =  list(reversed([x for _,x in sorted(zip(mylen(wordlist),wordlist))]))\n",
    "print(f\"The 5 longest words are {length_sorted_words[0:5]} of lengths {[len(x) for x in length_sorted_words[0:5]]}\")"
   ]
  },
  {
   "cell_type": "markdown",
   "metadata": {},
   "source": [
    "#### Important quantity is not necessarily word legnth, but number of unique characters in each word\n",
    "\n",
    "Will help with computation time and problem context, so look at those"
   ]
  },
  {
   "cell_type": "code",
   "execution_count": 5,
   "metadata": {},
   "outputs": [],
   "source": [
    "# Get Alphabetically sorted unique letters\n",
    "set_length_sorted_words = { w : \"\".join(sorted(set(w))) for w in length_sorted_words}\n",
    "unique_substrings = list(set(set_length_sorted_words.values()))"
   ]
  },
  {
   "cell_type": "code",
   "execution_count": 6,
   "metadata": {},
   "outputs": [
    {
     "name": "stdout",
     "output_type": "stream",
     "text": [
      "There are 101137 unique substrings\n"
     ]
    }
   ],
   "source": [
    "print(f\"There are {len(unique_substrings)} unique substrings\")"
   ]
  },
  {
   "cell_type": "code",
   "execution_count": 7,
   "metadata": {},
   "outputs": [],
   "source": [
    "length_sorted_unique_substrings =  list(reversed([x for _,x in sorted(zip(mylen(unique_substrings),unique_substrings))]))"
   ]
  },
  {
   "cell_type": "code",
   "execution_count": 8,
   "metadata": {},
   "outputs": [
    {
     "name": "stdout",
     "output_type": "stream",
     "text": [
      "abcdehilmnoprsty\n",
      "ceghilmnoprstuy\n"
     ]
    }
   ],
   "source": [
    "print(length_sorted_unique_substrings[0])\n",
    "print(length_sorted_unique_substrings[1])\n"
   ]
  },
  {
   "cell_type": "code",
   "execution_count": 9,
   "metadata": {},
   "outputs": [
    {
     "name": "stdout",
     "output_type": "stream",
     "text": [
      "The most unique characters are phenylthiocarbamides, with 20 unique characters\n"
     ]
    }
   ],
   "source": [
    "for key, v in set_length_sorted_words.items():\n",
    "    if v == length_sorted_unique_substrings[0]: \n",
    "        print(f\"The most unique characters are {key}, with {len(key)} unique characters\")"
   ]
  },
  {
   "cell_type": "code",
   "execution_count": 10,
   "metadata": {
    "scrolled": false
   },
   "outputs": [
    {
     "data": {
      "image/png": "[encoded data removed]",
      "text/plain": [
       "<Figure size 1080x360 with 2 Axes>"
      ]
     },
     "metadata": {
      "needs_background": "light"
     },
     "output_type": "display_data"
    }
   ],
   "source": [
    "fig, ax_enum = plt.subplots(1,2, figsize=(15,5))\n",
    "plt.sca(ax_enum[0])\n",
    "word_lengths = mylen(wordlist)\n",
    "plt.hist(word_lengths, bins=np.arange(min(word_lengths), max(word_lengths)), alpha=0.8)\n",
    "plt.ylabel(\"Count\",fontsize=16)\n",
    "plt.xlabel(\"Word Length\",fontsize=16)\n",
    "plt.tick_params(labelsize=12)\n",
    "\n",
    "plt.sca(ax_enum[1])\n",
    "unique_char_counts = mylen(length_sorted_unique_substrings)\n",
    "plt.hist(unique_char_counts, bins=np.arange(min(unique_char_counts), max(unique_char_counts)),\n",
    "         color=\"#DB7093\", alpha=0.8)\n",
    "plt.xlabel(\"Unique Characters\",fontsize=16)\n",
    "plt.tick_params(labelsize=12)\n",
    "\n",
    "\n",
    "\n",
    "plt.savefig(\"../plots/count_distribution\",bbox_params=\"tight\")"
   ]
  },
  {
   "cell_type": "markdown",
   "metadata": {},
   "source": [
    "### Define checking function"
   ]
  },
  {
   "cell_type": "code",
   "execution_count": 11,
   "metadata": {},
   "outputs": [],
   "source": [
    "def check_word_against_states(word):\n",
    "    \"\"\" Checks word against all states to see if it passes the question criteria, sharing letters with exactly one\n",
    "    word (str) : word to evaluate\n",
    "    returns (str) : None if fails criteria, the one orthogonally spelled state if meets criteria\n",
    "    \n",
    "    Note : This could be sped up if we only looked at unique characters, but it's not slow as-is.\n",
    "    \"\"\"\n",
    "    word = word.lower()\n",
    "    theword = None\n",
    "    thestate = None\n",
    "    unshared_char_states = 0\n",
    "    for state in statelist:\n",
    "        state= state.lower()\n",
    "        i = set(state)\n",
    "        j = set(word)\n",
    "        matching = i&j\n",
    "        if len(matching) == 0:\n",
    "            unshared_char_states += 1\n",
    "            theword = word\n",
    "            thestate = state\n",
    "        if unshared_char_states > 1:\n",
    "            return None\n",
    "    if unshared_char_states == 1:\n",
    "        return thestate\n",
    "    else:\n",
    "        return None"
   ]
  },
  {
   "cell_type": "code",
   "execution_count": 12,
   "metadata": {},
   "outputs": [
    {
     "name": "stdout",
     "output_type": "stream",
     "text": [
      "-----Should Pass-----\n",
      "Word: monkfish   State: delaware\n",
      "Word: jellyfish   State: montana\n",
      "Word: mackerel   State: ohio\n",
      "Word: unwatched   State: mississippi\n",
      "Word: elephant   State: missouri\n",
      "Word: james   State: ohio\n",
      "-----Should Fail-----\n",
      "tyler failed\n",
      "physics failed\n",
      "four failed\n"
     ]
    }
   ],
   "source": [
    "# Test\n",
    "def test_checking_function(word):\n",
    "    state = check_word_against_states(word)\n",
    "    if state is None:\n",
    "        print(f\"{word} failed\")\n",
    "    else:\n",
    "        print(f\"Word: {word}   State: {state}\")\n",
    "    \n",
    "print(\"-----Should Pass-----\")\n",
    "test_checking_function(\"monkfish\")\n",
    "test_checking_function(\"jellyfish\")\n",
    "test_checking_function(\"mackerel\")\n",
    "test_checking_function(\"unwatched\")\n",
    "test_checking_function(\"elephant\")\n",
    "test_checking_function(\"james\")\n",
    "\n",
    "print(\"-----Should Fail-----\")\n",
    "test_checking_function(\"tyler\")\n",
    "test_checking_function(\"physics\")\n",
    "test_checking_function(\"four\")"
   ]
  },
  {
   "cell_type": "markdown",
   "metadata": {},
   "source": [
    "### Run solution\n",
    "\n",
    "We'll start with the longest word and continue down the sorted list until we find the length of the longest word that meets the criteria"
   ]
  },
  {
   "cell_type": "code",
   "execution_count": 13,
   "metadata": {
    "scrolled": true
   },
   "outputs": [
    {
     "name": "stdout",
     "output_type": "stream",
     "text": [
      "Word: hydrochlorofluorocarbon  State: mississippi\n",
      "length of longest word 23  \n",
      "CPU times: user 7.43 ms, sys: 539 µs, total: 7.97 ms\n",
      "Wall time: 8.45 ms\n"
     ]
    }
   ],
   "source": [
    "%%time\n",
    "for word in length_sorted_words:\n",
    "    state = check_word_against_states(word)\n",
    "    if state is not None:\n",
    "        print(f\"Word: {word}  State: {state}\")\n",
    "        print(f\"length of longest word {len(word)}  \")\n",
    "        maximum_matching_length = len(word)\n",
    "        break"
   ]
  },
  {
   "cell_type": "markdown",
   "metadata": {},
   "source": [
    "Next, we need to find all the words of the same length that meet the criteria"
   ]
  },
  {
   "cell_type": "code",
   "execution_count": 14,
   "metadata": {},
   "outputs": [
    {
     "name": "stdout",
     "output_type": "stream",
     "text": [
      "Word: counterproductivenesses  State: alabama\n",
      "Word: hydrochlorofluorocarbon  State: mississippi\n"
     ]
    }
   ],
   "source": [
    "correct_length_words = np.array(wordlist)[mylen(wordlist) == maximum_matching_length]\n",
    "for word in correct_length_words:\n",
    "    state = check_word_against_states(word)\n",
    "    if state is not None:\n",
    "        print(f\"Word: {word}  State: {state}\")"
   ]
  },
  {
   "cell_type": "markdown",
   "metadata": {},
   "source": [
    "### Solution:\n",
    "\n",
    "There are **2** words of length **23** who don't share letters with _exactly_ one state. The two words are:\n",
    "\n",
    "- **counterproductivenesses** which doesn't share letters with **Alabama**\n",
    "- **hydrochlorofluorocarbon** which doesn't share letters with **Mississippi**"
   ]
  },
  {
   "cell_type": "markdown",
   "metadata": {},
   "source": [
    "## Exhaustive solution\n",
    "\n",
    "Since the computation time is working well, how many words of each length meet the solution criteria?"
   ]
  },
  {
   "cell_type": "code",
   "execution_count": 15,
   "metadata": {},
   "outputs": [
    {
     "name": "stdout",
     "output_type": "stream",
     "text": [
      "CPU times: user 16.6 s, sys: 52.3 ms, total: 16.6 s\n",
      "Wall time: 16.8 s\n"
     ]
    }
   ],
   "source": [
    "%%time\n",
    "len_match_criteria = []\n",
    "successful_words = []\n",
    "state_list = []\n",
    "for word in length_sorted_words:\n",
    "    state = check_word_against_states(word)\n",
    "    if state is not None:\n",
    "        len_match_criteria.append(len(word))\n",
    "        successful_words.append(word)\n",
    "        state_list.append(state)"
   ]
  },
  {
   "cell_type": "code",
   "execution_count": 16,
   "metadata": {},
   "outputs": [
    {
     "data": {
      "image/png": "[encoded data removed]",
      "text/plain": [
       "<Figure size 720x360 with 1 Axes>"
      ]
     },
     "metadata": {
      "needs_background": "light"
     },
     "output_type": "display_data"
    }
   ],
   "source": [
    "plt.figure(figsize=(10,5))\n",
    "plt.hist(len_match_criteria, bins=np.arange(min(len_match_criteria), max(len_match_criteria)), color=\"firebrick\", alpha=0.8)\n",
    "plt.ylabel(\"Count\",fontsize=16)\n",
    "plt.xlabel(\"Word Length\",fontsize=16)\n",
    "plt.xticks(np.arange(0,25,5))\n",
    "plt.tick_params(labelsize=12)\n",
    "plt.savefig(\"../plots/passing_distribution\",bbox_params=\"tight\")"
   ]
  },
  {
   "cell_type": "code",
   "execution_count": 17,
   "metadata": {},
   "outputs": [
    {
     "name": "stdout",
     "output_type": "stream",
     "text": [
      "--- Mean ---\n",
      "All: 9.31\n",
      "Passing: 9.37\n",
      "--- Median ---\n",
      "All: 9.00\n",
      "Passing: 9.00\n",
      "--- Standard Deviation ---\n",
      "All: 2.84\n",
      "Passing: 2.33\n"
     ]
    }
   ],
   "source": [
    "print(\"--- Mean ---\")\n",
    "print(f\"All: {np.mean(word_lengths):.2f}\")\n",
    "print(f\"Passing: {np.mean(len_match_criteria):.2f}\")\n",
    "\n",
    "print(\"--- Median ---\")\n",
    "print(f\"All: {np.median(word_lengths):.2f}\")\n",
    "print(f\"Passing: {np.median(len_match_criteria):.2f}\")\n",
    "\n",
    "print(\"--- Standard Deviation ---\")\n",
    "print(f\"All: {np.std(word_lengths):.2f}\")\n",
    "print(f\"Passing: {np.std(len_match_criteria):.2f}\")"
   ]
  },
  {
   "cell_type": "markdown",
   "metadata": {},
   "source": [
    "## Extra Credit\n",
    "\n",
    "Extra credit: Which state has the most “mackerels?” That is, which state has the most words for which it is the only state without any letters in common with those words?"
   ]
  },
  {
   "cell_type": "code",
   "execution_count": 18,
   "metadata": {},
   "outputs": [
    {
     "data": {
      "image/png": "[encoded data removed]",
      "text/plain": [
       "<Figure size 1008x504 with 1 Axes>"
      ]
     },
     "metadata": {
      "needs_background": "light"
     },
     "output_type": "display_data"
    }
   ],
   "source": [
    "import pandas as pd\n",
    "state_list_cap = [s.title() for s in state_list]\n",
    "df = pd.DataFrame({'states': state_list_cap})\n",
    "df['num'] = 1 # placeholder for summing\n",
    "df = df.groupby('states').sum().sort_values('num', ascending=False)\n",
    "\n",
    "plt.figure(figsize=(14,7))\n",
    "plt.bar(df.index, df.num, width=0.5, color='forestgreen', alpha=0.8)\n",
    "#plt.hist(state_list, bins=np.arange(min(len_match_criteria), max(len_match_criteria)), color=\"forestgreen\", alpha=0.8)\n",
    "plt.ylabel(\"\\\"Mackerel\\\" Count\",fontsize=16)\n",
    "plt.xticks(rotation=75, fontsize=12)\n",
    "plt.tick_params(labelsize=12)\n",
    "plt.savefig(\"../plots/states_distribution\",bbox_params=\"tight\")"
   ]
  },
  {
   "cell_type": "markdown",
   "metadata": {},
   "source": [
    "### Full list\n",
    "\n",
    "Just to check the raw counts"
   ]
  },
  {
   "cell_type": "code",
   "execution_count": 19,
   "metadata": {},
   "outputs": [
    {
     "data": {
      "text/html": [
       "<div>\n",
       "<style scoped>\n",
       "    .dataframe tbody tr th:only-of-type {\n",
       "        vertical-align: middle;\n",
       "    }\n",
       "\n",
       "    .dataframe tbody tr th {\n",
       "        vertical-align: top;\n",
       "    }\n",
       "\n",
       "    .dataframe thead th {\n",
       "        text-align: right;\n",
       "    }\n",
       "</style>\n",
       "<table border=\"1\" class=\"dataframe\">\n",
       "  <thead>\n",
       "    <tr style=\"text-align: right;\">\n",
       "      <th></th>\n",
       "      <th>num</th>\n",
       "    </tr>\n",
       "    <tr>\n",
       "      <th>states</th>\n",
       "      <th></th>\n",
       "    </tr>\n",
       "  </thead>\n",
       "  <tbody>\n",
       "    <tr>\n",
       "      <th>Ohio</th>\n",
       "      <td>11342</td>\n",
       "    </tr>\n",
       "    <tr>\n",
       "      <th>Alabama</th>\n",
       "      <td>8274</td>\n",
       "    </tr>\n",
       "    <tr>\n",
       "      <th>Utah</th>\n",
       "      <td>6619</td>\n",
       "    </tr>\n",
       "    <tr>\n",
       "      <th>Mississippi</th>\n",
       "      <td>4863</td>\n",
       "    </tr>\n",
       "    <tr>\n",
       "      <th>Hawaii</th>\n",
       "      <td>1763</td>\n",
       "    </tr>\n",
       "    <tr>\n",
       "      <th>Kentucky</th>\n",
       "      <td>1580</td>\n",
       "    </tr>\n",
       "    <tr>\n",
       "      <th>Wyoming</th>\n",
       "      <td>1364</td>\n",
       "    </tr>\n",
       "    <tr>\n",
       "      <th>Tennessee</th>\n",
       "      <td>1339</td>\n",
       "    </tr>\n",
       "    <tr>\n",
       "      <th>Alaska</th>\n",
       "      <td>1261</td>\n",
       "    </tr>\n",
       "    <tr>\n",
       "      <th>Nevada</th>\n",
       "      <td>1229</td>\n",
       "    </tr>\n",
       "    <tr>\n",
       "      <th>Kansas</th>\n",
       "      <td>884</td>\n",
       "    </tr>\n",
       "    <tr>\n",
       "      <th>Oregon</th>\n",
       "      <td>682</td>\n",
       "    </tr>\n",
       "    <tr>\n",
       "      <th>Montana</th>\n",
       "      <td>648</td>\n",
       "    </tr>\n",
       "    <tr>\n",
       "      <th>Texas</th>\n",
       "      <td>639</td>\n",
       "    </tr>\n",
       "    <tr>\n",
       "      <th>Indiana</th>\n",
       "      <td>482</td>\n",
       "    </tr>\n",
       "    <tr>\n",
       "      <th>Colorado</th>\n",
       "      <td>481</td>\n",
       "    </tr>\n",
       "    <tr>\n",
       "      <th>Delaware</th>\n",
       "      <td>399</td>\n",
       "    </tr>\n",
       "    <tr>\n",
       "      <th>Oklahoma</th>\n",
       "      <td>369</td>\n",
       "    </tr>\n",
       "    <tr>\n",
       "      <th>New Jersey</th>\n",
       "      <td>337</td>\n",
       "    </tr>\n",
       "    <tr>\n",
       "      <th>Iowa</th>\n",
       "      <td>201</td>\n",
       "    </tr>\n",
       "    <tr>\n",
       "      <th>Virginia</th>\n",
       "      <td>107</td>\n",
       "    </tr>\n",
       "    <tr>\n",
       "      <th>New York</th>\n",
       "      <td>105</td>\n",
       "    </tr>\n",
       "    <tr>\n",
       "      <th>Illinois</th>\n",
       "      <td>79</td>\n",
       "    </tr>\n",
       "    <tr>\n",
       "      <th>Missouri</th>\n",
       "      <td>73</td>\n",
       "    </tr>\n",
       "    <tr>\n",
       "      <th>Maryland</th>\n",
       "      <td>67</td>\n",
       "    </tr>\n",
       "    <tr>\n",
       "      <th>Wisconsin</th>\n",
       "      <td>60</td>\n",
       "    </tr>\n",
       "    <tr>\n",
       "      <th>North Dakota</th>\n",
       "      <td>54</td>\n",
       "    </tr>\n",
       "    <tr>\n",
       "      <th>New Mexico</th>\n",
       "      <td>30</td>\n",
       "    </tr>\n",
       "    <tr>\n",
       "      <th>Vermont</th>\n",
       "      <td>27</td>\n",
       "    </tr>\n",
       "    <tr>\n",
       "      <th>Maine</th>\n",
       "      <td>14</td>\n",
       "    </tr>\n",
       "    <tr>\n",
       "      <th>Connecticut</th>\n",
       "      <td>9</td>\n",
       "    </tr>\n",
       "    <tr>\n",
       "      <th>Michigan</th>\n",
       "      <td>4</td>\n",
       "    </tr>\n",
       "  </tbody>\n",
       "</table>\n",
       "</div>"
      ],
      "text/plain": [
       "                num\n",
       "states             \n",
       "Ohio          11342\n",
       "Alabama        8274\n",
       "Utah           6619\n",
       "Mississippi    4863\n",
       "Hawaii         1763\n",
       "Kentucky       1580\n",
       "Wyoming        1364\n",
       "Tennessee      1339\n",
       "Alaska         1261\n",
       "Nevada         1229\n",
       "Kansas          884\n",
       "Oregon          682\n",
       "Montana         648\n",
       "Texas           639\n",
       "Indiana         482\n",
       "Colorado        481\n",
       "Delaware        399\n",
       "Oklahoma        369\n",
       "New Jersey      337\n",
       "Iowa            201\n",
       "Virginia        107\n",
       "New York        105\n",
       "Illinois         79\n",
       "Missouri         73\n",
       "Maryland         67\n",
       "Wisconsin        60\n",
       "North Dakota     54\n",
       "New Mexico       30\n",
       "Vermont          27\n",
       "Maine            14\n",
       "Connecticut       9\n",
       "Michigan          4"
      ]
     },
     "execution_count": 19,
     "metadata": {},
     "output_type": "execute_result"
    }
   ],
   "source": [
    "df"
   ]
  },
  {
   "cell_type": "markdown",
   "metadata": {},
   "source": [
    "### Plot number of unique characters in a state v number of \"mackerels\""
   ]
  },
  {
   "cell_type": "code",
   "execution_count": 20,
   "metadata": {},
   "outputs": [],
   "source": [
    "df[\"lower_state\"] = df.index.str.lower()\n",
    "df[\"unique_chars\"] = df[\"lower_state\"].apply(list).apply(set).apply(len)"
   ]
  },
  {
   "cell_type": "code",
   "execution_count": 21,
   "metadata": {},
   "outputs": [
    {
     "data": {
      "image/png": "[encoded data removed]",
      "text/plain": [
       "<Figure size 720x360 with 1 Axes>"
      ]
     },
     "metadata": {
      "needs_background": "light"
     },
     "output_type": "display_data"
    }
   ],
   "source": [
    "plt.figure(figsize=(10,5))\n",
    "plt.scatter(df[\"unique_chars\"], df[\"num\"])\n",
    "correlation = np.corrcoef(df[\"unique_chars\"], df[\"num\"])[0,1]\n",
    "plt.annotate(f\"Correlation {correlation:.3f}\", xy=(0.95,0.9), xycoords=\"axes fraction\", ha=\"right\", fontsize=16)\n",
    "\n",
    "plt.xlabel(\"Unique Characters in State Name\",fontsize=16)\n",
    "plt.ylabel(\"Number of \\\"Mackerels\\\"\",fontsize=16)\n",
    "plt.tick_params(labelsize=14)\n",
    "plt.savefig(\"../plots/scatter_state\",bbox_params=\"tight\")"
   ]
  },
  {
   "cell_type": "code",
   "execution_count": null,
   "metadata": {},
   "outputs": [],
   "source": []
  }
 ],
 "metadata": {
  "kernelspec": {
   "display_name": "puzzle3.7",
   "language": "python",
   "name": "puzzle3.7"
  },
  "language_info": {
   "codemirror_mode": {
    "name": "ipython",
    "version": 3
   },
   "file_extension": ".py",
   "mimetype": "text/x-python",
   "name": "python",
   "nbconvert_exporter": "python",
   "pygments_lexer": "ipython3",
   "version": "3.7.7"
  }
 },
 "nbformat": 4,
 "nbformat_minor": 4
}
