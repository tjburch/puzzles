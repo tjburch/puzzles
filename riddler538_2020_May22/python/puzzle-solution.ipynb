{
 "cells": [
  {
   "cell_type": "markdown",
   "metadata": {},
   "source": [
    "# Riddler Classic - May 22, 2020\n",
    "\n",
    "https://fivethirtyeight.com/features/somethings-fishy-in-the-state-of-the-riddler/\n",
    "\n",
    "Ohio is the only state whose name doesn’t share any letters with the word “mackerel.” It’s strange, but it’s true.\n",
    "\n",
    "But that isn’t the only pairing of a state and a word you can say that about — it’s not even the only fish! Kentucky has “goldfish” to itself, Montana has “jellyfish” and Delaware has “monkfish,” just to name a few.\n",
    "\n",
    "What is the longest “mackerel?” That is, what is the longest word that doesn’t share any letters with exactly one state? (If multiple “mackerels” are tied for being the longest, can you find them all?)\n",
    "\n",
    "Extra credit: Which state has the most “mackerels?” That is, which state has the most words for which it is the only state without any letters in common with those words?"
   ]
  },
  {
   "cell_type": "markdown",
   "metadata": {},
   "source": [
    "### Load data"
   ]
  },
  {
   "cell_type": "code",
   "execution_count": 1,
   "metadata": {},
   "outputs": [],
   "source": [
    "import pickle\n",
    "wordlist = pickle.load(open(\"../data/word-list.pkl\",\"rb\"))\n",
    "wordlist = [w.decode(\"utf-8\") for w in wordlist]\n",
    "statelist = pickle.load(open(\"../data/state-list.pkl\",\"rb\"))\n",
    "statelist = [state.lower() for state in statelist]"
   ]
  },
  {
   "cell_type": "code",
   "execution_count": 2,
   "metadata": {},
   "outputs": [
    {
     "name": "stdout",
     "output_type": "stream",
     "text": [
      "There are 263533 total words\n",
      "There are 50 total states\n"
     ]
    }
   ],
   "source": [
    "print(f\"There are {len(wordlist)} total words\")\n",
    "print(f\"There are {len(statelist)} total states\")"
   ]
  },
  {
   "cell_type": "markdown",
   "metadata": {},
   "source": [
    "### Do some quick dataset checks"
   ]
  },
  {
   "cell_type": "code",
   "execution_count": 3,
   "metadata": {},
   "outputs": [
    {
     "name": "stderr",
     "output_type": "stream",
     "text": [
      "\n",
      "Bad key \"axes.color_cycle\" on line 26 in\n",
      "/Users/tburch/.matplotlib/stylelib/tjb.mplstyle.\n",
      "You probably need to get an updated matplotlibrc file from\n",
      "http://github.com/matplotlib/matplotlib/blob/master/matplotlibrc.template\n",
      "or from the matplotlib source distribution\n"
     ]
    }
   ],
   "source": [
    "import matplotlib.pyplot as plt\n",
    "plt.style.use(\"tjb\")\n",
    "import numpy as np"
   ]
  },
  {
   "cell_type": "code",
   "execution_count": 4,
   "metadata": {},
   "outputs": [
    {
     "name": "stdout",
     "output_type": "stream",
     "text": [
      "The longest word is pneumonoultramicroscopicsilicovolcanoconiosis\n",
      "The 5 longest words are ['pneumonoultramicroscopicsilicovolcanoconiosis', 'dichlorodiphenyltrichloroethanes', 'dichlorodiphenyltrichloroethane', 'floccinaucinihilipilifications', 'floccinaucinihilipilification'] of lengths [45, 32, 31, 30, 29]\n"
     ]
    }
   ],
   "source": [
    "mylen = np.vectorize(len)\n",
    "longest = wordlist[np.argmax(mylen(wordlist))]\n",
    "print(f\"The longest word is {longest}\")\n",
    "length_sorted_words =  list(reversed([x for _,x in sorted(zip(mylen(wordlist),wordlist))]))\n",
    "print(f\"The 5 longest words are {length_sorted_words[0:5]} of lengths {[len(x) for x in length_sorted_words[0:5]]}\")"
   ]
  },
  {
   "cell_type": "code",
   "execution_count": 5,
   "metadata": {
    "scrolled": false
   },
   "outputs": [
    {
     "data": {
      "image/png": "[encoded data removed]",
      "text/plain": [
       "<Figure size 720x360 with 1 Axes>"
      ]
     },
     "metadata": {
      "needs_background": "light"
     },
     "output_type": "display_data"
    }
   ],
   "source": [
    "plt.figure(figsize=(10,5))\n",
    "word_lengths = mylen(wordlist)\n",
    "plt.hist(word_lengths, bins=np.arange(min(word_lengths), max(word_lengths)), alpha=0.8)\n",
    "plt.ylabel(\"Count\",fontsize=16)\n",
    "plt.xlabel(\"Word Length\",fontsize=16)\n",
    "plt.tick_params(labelsize=12)\n",
    "plt.savefig(\"../plots/count_distribution\",bbox_params=\"tight\")"
   ]
  },
  {
   "cell_type": "markdown",
   "metadata": {},
   "source": [
    "### Define checking function"
   ]
  },
  {
   "cell_type": "code",
   "execution_count": 6,
   "metadata": {},
   "outputs": [],
   "source": [
    "def check_word_against_states(word):\n",
    "    \"\"\" Checks word against all states to see if it passes the question criteria, sharing letters with exactly one\n",
    "    word (str) : word to evaluate\n",
    "    returns (str) : None if fails criteria, the one orthogonally spelled state if meets criteria\n",
    "    \"\"\"\n",
    "    word = word.lower()\n",
    "    theword = None\n",
    "    thestate = None\n",
    "    unshared_char_states = 0\n",
    "    for state in statelist:\n",
    "        state= state.lower()\n",
    "        i = set(state)\n",
    "        j = set(word)\n",
    "        matching = i&j\n",
    "        if len(matching) == 0:\n",
    "            unshared_char_states += 1\n",
    "            theword = word\n",
    "            thestate = state\n",
    "        if unshared_char_states > 1:\n",
    "            return None\n",
    "    if unshared_char_states == 1:\n",
    "        return thestate\n",
    "    else:\n",
    "        return None"
   ]
  },
  {
   "cell_type": "code",
   "execution_count": 7,
   "metadata": {},
   "outputs": [
    {
     "name": "stdout",
     "output_type": "stream",
     "text": [
      "-----Should Pass-----\n",
      "Word: monkfish   State: delaware\n",
      "Word: jellyfish   State: montana\n",
      "Word: mackerel   State: ohio\n",
      "Word: unwatched   State: mississippi\n",
      "Word: elephant   State: missouri\n",
      "Word: james   State: ohio\n",
      "-----Should Fail-----\n",
      "tyler failed\n",
      "physics failed\n",
      "four failed\n"
     ]
    }
   ],
   "source": [
    "# Test\n",
    "def test_checking_function(word):\n",
    "    state = check_word_against_states(word)\n",
    "    if state is None:\n",
    "        print(f\"{word} failed\")\n",
    "    else:\n",
    "        print(f\"Word: {word}   State: {state}\")\n",
    "    \n",
    "print(\"-----Should Pass-----\")\n",
    "test_checking_function(\"monkfish\")\n",
    "test_checking_function(\"jellyfish\")\n",
    "test_checking_function(\"mackerel\")\n",
    "test_checking_function(\"unwatched\")\n",
    "test_checking_function(\"elephant\")\n",
    "test_checking_function(\"james\")\n",
    "\n",
    "print(\"-----Should Fail-----\")\n",
    "test_checking_function(\"tyler\")\n",
    "test_checking_function(\"physics\")\n",
    "test_checking_function(\"four\")"
   ]
  },
  {
   "cell_type": "markdown",
   "metadata": {},
   "source": [
    "### Run solution\n",
    "\n",
    "We'll start with the longest word and continue down the sorted list until we find the length of the longest word that meets the criteria"
   ]
  },
  {
   "cell_type": "code",
   "execution_count": 8,
   "metadata": {
    "scrolled": true
   },
   "outputs": [
    {
     "name": "stdout",
     "output_type": "stream",
     "text": [
      "Word: hydrochlorofluorocarbon  State: mississippi\n",
      "length of longest word 23  \n"
     ]
    }
   ],
   "source": [
    "for word in length_sorted_words:\n",
    "    state = check_word_against_states(word)\n",
    "    if state is not None:\n",
    "        print(f\"Word: {word}  State: {state}\")\n",
    "        print(f\"length of longest word {len(word)}  \")\n",
    "        maximum_matching_length = len(word)\n",
    "        break"
   ]
  },
  {
   "cell_type": "markdown",
   "metadata": {},
   "source": [
    "Next, we need to find all the words of the same length that meet the criteria"
   ]
  },
  {
   "cell_type": "code",
   "execution_count": 9,
   "metadata": {},
   "outputs": [
    {
     "name": "stdout",
     "output_type": "stream",
     "text": [
      "Word: counterproductivenesses  State: alabama\n",
      "Word: hydrochlorofluorocarbon  State: mississippi\n"
     ]
    }
   ],
   "source": [
    "correct_length_words = np.array(wordlist)[mylen(wordlist) == maximum_matching_length]\n",
    "for word in correct_length_words:\n",
    "    state = check_word_against_states(word)\n",
    "    if state is not None:\n",
    "        print(f\"Word: {word}  State: {state}\")"
   ]
  },
  {
   "cell_type": "markdown",
   "metadata": {},
   "source": [
    "### Solution:\n",
    "\n",
    "There are **2** words of length **23** who don't share letters with _exactly_ one state. The two words are:\n",
    "\n",
    "- **counterproductivenesses** which doesn't share letters with **Alabama**\n",
    "- **hydrochlorofluorocarbon** which doesn't share letters with **Mississippi**"
   ]
  },
  {
   "cell_type": "markdown",
   "metadata": {},
   "source": [
    "## Exhaustive solution\n",
    "\n",
    "Since the computation time is working well, how many words of each length meet the solution criteria?"
   ]
  },
  {
   "cell_type": "code",
   "execution_count": 10,
   "metadata": {},
   "outputs": [],
   "source": [
    "len_match_criteria = []\n",
    "successful_words = []\n",
    "for word in length_sorted_words:\n",
    "    state = check_word_against_states(word)\n",
    "    if state is not None:\n",
    "        len_match_criteria.append(len(word))\n",
    "        successful_words.append(word)"
   ]
  },
  {
   "cell_type": "code",
   "execution_count": 11,
   "metadata": {},
   "outputs": [
    {
     "data": {
      "image/png": "[encoded data removed]",
      "text/plain": [
       "<Figure size 720x360 with 1 Axes>"
      ]
     },
     "metadata": {
      "needs_background": "light"
     },
     "output_type": "display_data"
    }
   ],
   "source": [
    "plt.figure(figsize=(10,5))\n",
    "plt.hist(len_match_criteria, bins=np.arange(min(len_match_criteria), max(len_match_criteria)), color=\"firebrick\", alpha=0.8)\n",
    "plt.ylabel(\"Count\",fontsize=16)\n",
    "plt.xlabel(\"Word Length\",fontsize=16)\n",
    "plt.xticks(np.arange(0,25,5))\n",
    "plt.tick_params(labelsize=12)\n",
    "plt.savefig(\"../plots/passing_distribution\",bbox_params=\"tight\")"
   ]
  },
  {
   "cell_type": "code",
   "execution_count": 12,
   "metadata": {},
   "outputs": [
    {
     "name": "stdout",
     "output_type": "stream",
     "text": [
      "--- Mean ---\n",
      "All: 9.31\n",
      "Passing: 9.37\n",
      "--- Median ---\n",
      "All: 9.00\n",
      "Passing: 9.00\n",
      "--- Standard Deviation ---\n",
      "All: 2.84\n",
      "Passing: 2.33\n"
     ]
    }
   ],
   "source": [
    "print(\"--- Mean ---\")\n",
    "print(f\"All: {np.mean(word_lengths):.2f}\")\n",
    "print(f\"Passing: {np.mean(len_match_criteria):.2f}\")\n",
    "\n",
    "print(\"--- Median ---\")\n",
    "print(f\"All: {np.median(word_lengths):.2f}\")\n",
    "print(f\"Passing: {np.median(len_match_criteria):.2f}\")\n",
    "\n",
    "print(\"--- Standard Deviation ---\")\n",
    "print(f\"All: {np.std(word_lengths):.2f}\")\n",
    "print(f\"Passing: {np.std(len_match_criteria):.2f}\")"
   ]
  }
 ],
 "metadata": {
  "kernelspec": {
   "display_name": "puzzle3.7",
   "language": "python",
   "name": "puzzle3.7"
  },
  "language_info": {
   "codemirror_mode": {
    "name": "ipython",
    "version": 3
   },
   "file_extension": ".py",
   "mimetype": "text/x-python",
   "name": "python",
   "nbconvert_exporter": "python",
   "pygments_lexer": "ipython3",
   "version": "3.7.7"
  }
 },
 "nbformat": 4,
 "nbformat_minor": 4
}
